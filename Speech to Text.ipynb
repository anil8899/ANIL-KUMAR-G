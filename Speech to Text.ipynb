{
 "cells": [
  {
   "cell_type": "code",
   "execution_count": 1,
   "id": "4339b487-df48-4ba4-b2b3-fa8bc61ffe4d",
   "metadata": {},
   "outputs": [
    {
     "ename": "ModuleNotFoundError",
     "evalue": "No module named 'speech_recognition'",
     "output_type": "error",
     "traceback": [
      "\u001b[1;31m---------------------------------------------------------------------------\u001b[0m",
      "\u001b[1;31mModuleNotFoundError\u001b[0m                       Traceback (most recent call last)",
      "Cell \u001b[1;32mIn[1], line 1\u001b[0m\n\u001b[1;32m----> 1\u001b[0m \u001b[38;5;28;01mimport\u001b[39;00m \u001b[38;5;21;01mspeech_recognition\u001b[39;00m \u001b[38;5;28;01mas\u001b[39;00m \u001b[38;5;21;01msr\u001b[39;00m\n\u001b[0;32m      3\u001b[0m recognizer \u001b[38;5;241m=\u001b[39m sr\u001b[38;5;241m.\u001b[39mRecognizer()\n\u001b[0;32m      4\u001b[0m \u001b[38;5;28;01mwith\u001b[39;00m sr\u001b[38;5;241m.\u001b[39mMicrophone() \u001b[38;5;28;01mas\u001b[39;00m source:\n",
      "\u001b[1;31mModuleNotFoundError\u001b[0m: No module named 'speech_recognition'"
     ]
    }
   ],
   "source": [
    "import speech_recognition as sr\n",
    "\n",
    "recognizer = sr.Recognizer()\n",
    "with sr.Microphone() as source:\n",
    "    print(\"Speak now:\")\n",
    "    audio = recognizer.listen(source)\n",
    "try:\n",
    "    print(\"You said: \" + recognizer.recognize_google(audio))\n",
    "except sr.UnknownValueError:\n",
    "    print(\"Google Speech Recognition could not understand the audio\")\n"
   ]
  },
  {
   "cell_type": "code",
   "execution_count": 2,
   "id": "e2f42d3c-7b15-4638-84f3-b975598cebb4",
   "metadata": {},
   "outputs": [
    {
     "ename": "ModuleNotFoundError",
     "evalue": "No module named 'speech_recognition'",
     "output_type": "error",
     "traceback": [
      "\u001b[1;31m---------------------------------------------------------------------------\u001b[0m",
      "\u001b[1;31mModuleNotFoundError\u001b[0m                       Traceback (most recent call last)",
      "Cell \u001b[1;32mIn[2], line 1\u001b[0m\n\u001b[1;32m----> 1\u001b[0m \u001b[38;5;28;01mimport\u001b[39;00m \u001b[38;5;21;01mspeech_recognition\u001b[39;00m\n",
      "\u001b[1;31mModuleNotFoundError\u001b[0m: No module named 'speech_recognition'"
     ]
    }
   ],
   "source": [
    "import speech_recognition"
   ]
  },
  {
   "cell_type": "code",
   "execution_count": 3,
   "id": "fcf5f6ad-4f25-4cf7-b7ac-183cf16f4f4f",
   "metadata": {},
   "outputs": [
    {
     "name": "stdout",
     "output_type": "stream",
     "text": [
      "Collecting SpeechRecognition\n",
      "  Downloading SpeechRecognition-3.10.4-py2.py3-none-any.whl.metadata (28 kB)\n",
      "Requirement already satisfied: requests>=2.26.0 in c:\\users\\nishitha anil\\anaconda3\\lib\\site-packages (from SpeechRecognition) (2.32.2)\n",
      "Requirement already satisfied: typing-extensions in c:\\users\\nishitha anil\\anaconda3\\lib\\site-packages (from SpeechRecognition) (4.11.0)\n",
      "Requirement already satisfied: charset-normalizer<4,>=2 in c:\\users\\nishitha anil\\anaconda3\\lib\\site-packages (from requests>=2.26.0->SpeechRecognition) (2.0.4)\n",
      "Requirement already satisfied: idna<4,>=2.5 in c:\\users\\nishitha anil\\anaconda3\\lib\\site-packages (from requests>=2.26.0->SpeechRecognition) (3.7)\n",
      "Requirement already satisfied: urllib3<3,>=1.21.1 in c:\\users\\nishitha anil\\anaconda3\\lib\\site-packages (from requests>=2.26.0->SpeechRecognition) (2.2.2)\n",
      "Requirement already satisfied: certifi>=2017.4.17 in c:\\users\\nishitha anil\\anaconda3\\lib\\site-packages (from requests>=2.26.0->SpeechRecognition) (2024.6.2)\n",
      "Downloading SpeechRecognition-3.10.4-py2.py3-none-any.whl (32.8 MB)\n",
      "   ---------------------------------------- 0.0/32.8 MB ? eta -:--:--\n",
      "   ---------------------------------------- 0.1/32.8 MB 2.6 MB/s eta 0:00:13\n",
      "    --------------------------------------- 0.5/32.8 MB 4.9 MB/s eta 0:00:07\n",
      "   - -------------------------------------- 0.9/32.8 MB 6.5 MB/s eta 0:00:05\n",
      "   - -------------------------------------- 1.3/32.8 MB 7.3 MB/s eta 0:00:05\n",
      "   - -------------------------------------- 1.6/32.8 MB 6.9 MB/s eta 0:00:05\n",
      "   -- ------------------------------------- 2.0/32.8 MB 7.0 MB/s eta 0:00:05\n",
      "   -- ------------------------------------- 2.3/32.8 MB 7.0 MB/s eta 0:00:05\n",
      "   --- ------------------------------------ 2.7/32.8 MB 7.1 MB/s eta 0:00:05\n",
      "   --- ------------------------------------ 2.9/32.8 MB 7.1 MB/s eta 0:00:05\n",
      "   --- ------------------------------------ 3.3/32.8 MB 7.2 MB/s eta 0:00:05\n",
      "   ---- ----------------------------------- 3.6/32.8 MB 7.3 MB/s eta 0:00:05\n",
      "   ---- ----------------------------------- 4.0/32.8 MB 7.3 MB/s eta 0:00:04\n",
      "   ----- ---------------------------------- 4.3/32.8 MB 7.3 MB/s eta 0:00:04\n",
      "   ----- ---------------------------------- 4.7/32.8 MB 7.3 MB/s eta 0:00:04\n",
      "   ------ --------------------------------- 5.0/32.8 MB 7.2 MB/s eta 0:00:04\n",
      "   ------ --------------------------------- 5.4/32.8 MB 7.2 MB/s eta 0:00:04\n",
      "   ------ --------------------------------- 5.7/32.8 MB 7.3 MB/s eta 0:00:04\n",
      "   ------- -------------------------------- 6.1/32.8 MB 7.3 MB/s eta 0:00:04\n",
      "   ------- -------------------------------- 6.4/32.8 MB 7.2 MB/s eta 0:00:04\n",
      "   -------- ------------------------------- 6.8/32.8 MB 7.2 MB/s eta 0:00:04\n",
      "   -------- ------------------------------- 7.1/32.8 MB 7.2 MB/s eta 0:00:04\n",
      "   --------- ------------------------------ 7.5/32.8 MB 7.2 MB/s eta 0:00:04\n",
      "   --------- ------------------------------ 7.7/32.8 MB 7.2 MB/s eta 0:00:04\n",
      "   --------- ------------------------------ 7.9/32.8 MB 7.0 MB/s eta 0:00:04\n",
      "   --------- ------------------------------ 8.2/32.8 MB 7.0 MB/s eta 0:00:04\n",
      "   ---------- ----------------------------- 8.5/32.8 MB 6.9 MB/s eta 0:00:04\n",
      "   ---------- ----------------------------- 8.8/32.8 MB 6.9 MB/s eta 0:00:04\n",
      "   ----------- ---------------------------- 9.1/32.8 MB 6.9 MB/s eta 0:00:04\n",
      "   ----------- ---------------------------- 9.3/32.8 MB 6.9 MB/s eta 0:00:04\n",
      "   ----------- ---------------------------- 9.7/32.8 MB 6.9 MB/s eta 0:00:04\n",
      "   ------------ --------------------------- 10.0/32.8 MB 6.9 MB/s eta 0:00:04\n",
      "   ------------ --------------------------- 10.4/32.8 MB 7.0 MB/s eta 0:00:04\n",
      "   ------------- -------------------------- 10.7/32.8 MB 7.0 MB/s eta 0:00:04\n",
      "   ------------- -------------------------- 11.1/32.8 MB 7.0 MB/s eta 0:00:04\n",
      "   ------------- -------------------------- 11.4/32.8 MB 7.0 MB/s eta 0:00:04\n",
      "   -------------- ------------------------- 11.8/32.8 MB 7.0 MB/s eta 0:00:03\n",
      "   -------------- ------------------------- 12.2/32.8 MB 7.0 MB/s eta 0:00:03\n",
      "   --------------- ------------------------ 12.5/32.8 MB 7.0 MB/s eta 0:00:03\n",
      "   --------------- ------------------------ 12.9/32.8 MB 7.0 MB/s eta 0:00:03\n",
      "   ---------------- ----------------------- 13.3/32.8 MB 7.0 MB/s eta 0:00:03\n",
      "   ---------------- ----------------------- 13.6/32.8 MB 7.0 MB/s eta 0:00:03\n",
      "   ----------------- ---------------------- 14.0/32.8 MB 7.0 MB/s eta 0:00:03\n",
      "   ----------------- ---------------------- 14.3/32.8 MB 7.0 MB/s eta 0:00:03\n",
      "   ----------------- ---------------------- 14.7/32.8 MB 7.0 MB/s eta 0:00:03\n",
      "   ------------------ --------------------- 15.0/32.8 MB 7.0 MB/s eta 0:00:03\n",
      "   ------------------ --------------------- 15.4/32.8 MB 7.0 MB/s eta 0:00:03\n",
      "   ------------------- -------------------- 15.7/32.8 MB 7.0 MB/s eta 0:00:03\n",
      "   ------------------- -------------------- 16.0/32.8 MB 7.0 MB/s eta 0:00:03\n",
      "   ------------------- -------------------- 16.4/32.8 MB 7.0 MB/s eta 0:00:03\n",
      "   -------------------- ------------------- 16.8/32.8 MB 7.0 MB/s eta 0:00:03\n",
      "   -------------------- ------------------- 17.1/32.8 MB 7.0 MB/s eta 0:00:03\n",
      "   --------------------- ------------------ 17.5/32.8 MB 7.0 MB/s eta 0:00:03\n",
      "   --------------------- ------------------ 17.8/32.8 MB 7.0 MB/s eta 0:00:03\n",
      "   ---------------------- ----------------- 18.1/32.8 MB 7.2 MB/s eta 0:00:03\n",
      "   ---------------------- ----------------- 18.5/32.8 MB 7.3 MB/s eta 0:00:02\n",
      "   ---------------------- ----------------- 18.9/32.8 MB 7.4 MB/s eta 0:00:02\n",
      "   ----------------------- ---------------- 19.2/32.8 MB 7.4 MB/s eta 0:00:02\n",
      "   ----------------------- ---------------- 19.5/32.8 MB 7.4 MB/s eta 0:00:02\n",
      "   ------------------------ --------------- 19.9/32.8 MB 7.4 MB/s eta 0:00:02\n",
      "   ------------------------ --------------- 20.2/32.8 MB 7.4 MB/s eta 0:00:02\n",
      "   ------------------------- -------------- 20.6/32.8 MB 7.4 MB/s eta 0:00:02\n",
      "   ------------------------- -------------- 20.9/32.8 MB 7.4 MB/s eta 0:00:02\n",
      "   ------------------------- -------------- 21.3/32.8 MB 7.4 MB/s eta 0:00:02\n",
      "   -------------------------- ------------- 21.6/32.8 MB 7.4 MB/s eta 0:00:02\n",
      "   -------------------------- ------------- 21.9/32.8 MB 7.4 MB/s eta 0:00:02\n",
      "   --------------------------- ------------ 22.3/32.8 MB 7.4 MB/s eta 0:00:02\n",
      "   --------------------------- ------------ 22.6/32.8 MB 7.4 MB/s eta 0:00:02\n",
      "   --------------------------- ------------ 23.0/32.8 MB 7.4 MB/s eta 0:00:02\n",
      "   ---------------------------- ----------- 23.3/32.8 MB 7.4 MB/s eta 0:00:02\n",
      "   ---------------------------- ----------- 23.7/32.8 MB 7.4 MB/s eta 0:00:02\n",
      "   ----------------------------- ---------- 24.0/32.8 MB 7.4 MB/s eta 0:00:02\n",
      "   ----------------------------- ---------- 24.4/32.8 MB 7.4 MB/s eta 0:00:02\n",
      "   ------------------------------ --------- 24.7/32.8 MB 7.4 MB/s eta 0:00:02\n",
      "   ------------------------------ --------- 25.0/32.8 MB 7.4 MB/s eta 0:00:02\n",
      "   ------------------------------ --------- 25.4/32.8 MB 7.4 MB/s eta 0:00:02\n",
      "   ------------------------------- -------- 25.7/32.8 MB 7.4 MB/s eta 0:00:01\n",
      "   ------------------------------- -------- 26.1/32.8 MB 7.4 MB/s eta 0:00:01\n",
      "   -------------------------------- ------- 26.4/32.8 MB 7.4 MB/s eta 0:00:01\n",
      "   -------------------------------- ------- 26.8/32.8 MB 7.4 MB/s eta 0:00:01\n",
      "   --------------------------------- ------ 27.1/32.8 MB 7.4 MB/s eta 0:00:01\n",
      "   --------------------------------- ------ 27.5/32.8 MB 7.4 MB/s eta 0:00:01\n",
      "   --------------------------------- ------ 27.8/32.8 MB 7.4 MB/s eta 0:00:01\n",
      "   ---------------------------------- ----- 28.1/32.8 MB 7.4 MB/s eta 0:00:01\n",
      "   ---------------------------------- ----- 28.5/32.8 MB 7.4 MB/s eta 0:00:01\n",
      "   ----------------------------------- ---- 28.8/32.8 MB 7.4 MB/s eta 0:00:01\n",
      "   ----------------------------------- ---- 29.2/32.8 MB 7.4 MB/s eta 0:00:01\n",
      "   ----------------------------------- ---- 29.5/32.8 MB 7.4 MB/s eta 0:00:01\n",
      "   ------------------------------------ --- 29.9/32.8 MB 7.4 MB/s eta 0:00:01\n",
      "   ------------------------------------ --- 30.2/32.8 MB 7.4 MB/s eta 0:00:01\n",
      "   ------------------------------------- -- 30.6/32.8 MB 7.4 MB/s eta 0:00:01\n",
      "   ------------------------------------- -- 30.9/32.8 MB 7.4 MB/s eta 0:00:01\n",
      "   -------------------------------------- - 31.3/32.8 MB 7.4 MB/s eta 0:00:01\n",
      "   -------------------------------------- - 31.6/32.8 MB 7.4 MB/s eta 0:00:01\n",
      "   -------------------------------------- - 31.9/32.8 MB 7.4 MB/s eta 0:00:01\n",
      "   ---------------------------------------  32.3/32.8 MB 7.4 MB/s eta 0:00:01\n",
      "   ---------------------------------------  32.7/32.8 MB 7.3 MB/s eta 0:00:01\n",
      "   ---------------------------------------  32.8/32.8 MB 7.4 MB/s eta 0:00:01\n",
      "   ---------------------------------------  32.8/32.8 MB 7.4 MB/s eta 0:00:01\n",
      "   ---------------------------------------  32.8/32.8 MB 7.4 MB/s eta 0:00:01\n",
      "   ---------------------------------------  32.8/32.8 MB 7.4 MB/s eta 0:00:01\n",
      "   ---------------------------------------- 32.8/32.8 MB 6.5 MB/s eta 0:00:00\n",
      "Installing collected packages: SpeechRecognition\n",
      "Successfully installed SpeechRecognition-3.10.4\n",
      "Note: you may need to restart the kernel to use updated packages.\n"
     ]
    }
   ],
   "source": [
    "pip install SpeechRecognition"
   ]
  },
  {
   "cell_type": "code",
   "execution_count": 4,
   "id": "f1425196-9504-4099-9c08-5e877120911c",
   "metadata": {},
   "outputs": [
    {
     "name": "stdout",
     "output_type": "stream",
     "text": [
      "Collecting pyaudio\n",
      "  Downloading PyAudio-0.2.14-cp312-cp312-win_amd64.whl.metadata (2.7 kB)\n",
      "Downloading PyAudio-0.2.14-cp312-cp312-win_amd64.whl (164 kB)\n",
      "   ---------------------------------------- 0.0/164.1 kB ? eta -:--:--\n",
      "   -- ------------------------------------- 10.2/164.1 kB ? eta -:--:--\n",
      "   --------------------------- ------------ 112.6/164.1 kB 1.3 MB/s eta 0:00:01\n",
      "   ---------------------------------------- 164.1/164.1 kB 1.7 MB/s eta 0:00:00\n",
      "Installing collected packages: pyaudio\n",
      "Successfully installed pyaudio-0.2.14\n",
      "Note: you may need to restart the kernel to use updated packages.\n"
     ]
    }
   ],
   "source": [
    "pip install pyaudio"
   ]
  },
  {
   "cell_type": "code",
   "execution_count": 5,
   "id": "16f0dacb-c173-4be9-8cf8-84df77375661",
   "metadata": {},
   "outputs": [
    {
     "name": "stdout",
     "output_type": "stream",
     "text": [
      "Note: you may need to restart the kernel to use updated packages.\n"
     ]
    },
    {
     "name": "stderr",
     "output_type": "stream",
     "text": [
      "The syntax of the command is incorrect.\n"
     ]
    }
   ],
   "source": [
    "pip install <path-to-downloaded-wheel-file>"
   ]
  },
  {
   "cell_type": "code",
   "execution_count": 7,
   "id": "821ae7e1-493b-450b-ab05-5685df74d20f",
   "metadata": {},
   "outputs": [
    {
     "name": "stdout",
     "output_type": "stream",
     "text": [
      "Say something!\n",
      "You said: hi everyone how are you doing hope everyone doing great\n"
     ]
    }
   ],
   "source": [
    "import speech_recognition as sr\n",
    "\n",
    "# Initialize recognizer\n",
    "recognizer = sr.Recognizer()\n",
    "\n",
    "# Capture audio from the microphone\n",
    "with sr.Microphone() as source:\n",
    "    print(\"Say something!\")\n",
    "    audio = recognizer.listen(source)\n",
    "\n",
    "# Recognize speech using Google Web API\n",
    "try:\n",
    "    print(\"You said: \" + recognizer.recognize_google(audio))\n",
    "except sr.UnknownValueError:\n",
    "    print(\"Google Speech Recognition could not understand the audio\")\n",
    "except sr.RequestError as e:\n",
    "    print(\"Could not request results from Google Speech Recognition service; {0}\".format(e))\n"
   ]
  },
  {
   "cell_type": "code",
   "execution_count": null,
   "id": "05393e68-4048-4c81-ba97-9d50a30f42d8",
   "metadata": {},
   "outputs": [],
   "source": []
  },
  {
   "cell_type": "code",
   "execution_count": null,
   "id": "08eb29f7-8e17-471e-89ab-72f63b67a29f",
   "metadata": {},
   "outputs": [],
   "source": []
  }
 ],
 "metadata": {
  "kernelspec": {
   "display_name": "Python 3 (ipykernel)",
   "language": "python",
   "name": "python3"
  },
  "language_info": {
   "codemirror_mode": {
    "name": "ipython",
    "version": 3
   },
   "file_extension": ".py",
   "mimetype": "text/x-python",
   "name": "python",
   "nbconvert_exporter": "python",
   "pygments_lexer": "ipython3",
   "version": "3.12.4"
  }
 },
 "nbformat": 4,
 "nbformat_minor": 5
}
