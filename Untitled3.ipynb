{
 "cells": [
  {
   "cell_type": "code",
   "execution_count": 40,
   "id": "e8079a5d-2c80-4c67-822b-1f3c3786322c",
   "metadata": {},
   "outputs": [
    {
     "name": "stdout",
     "output_type": "stream",
     "text": [
      "[0, 1, 1, 2, 3, 5, 8, 13, 21, 34, 55, 89, 144, 233, 377, 610, 987, 1597, 2584, 4181, 6765, 10946, 17711, 28657, 46368, 75025, 121393, 196418, 317811, 514229, 832040, 1346269, 2178309, 3524578, 5702887, 9227465, 14930352, 24157817, 39088169, 63245986, 102334155, 165580141, 267914296, 433494437, 701408733, 1134903170, 1836311903, 2971215073, 4807526976, 7778742049, 12586269025, 20365011074, 32951280099, 53316291173, 86267571272, 139583862445, 225851433717, 365435296162, 591286729879, 956722026041, 1548008755920, 2504730781961, 4052739537881, 6557470319842, 10610209857723, 17167680177565, 27777890035288, 44945570212853, 72723460248141, 117669030460994, 190392490709135, 308061521170129, 498454011879264, 806515533049393, 1304969544928657, 2111485077978050, 3416454622906707, 5527939700884757, 8944394323791464, 14472334024676221, 23416728348467685, 37889062373143906, 61305790721611591, 99194853094755497, 160500643816367088, 259695496911122585, 420196140727489673, 679891637638612258, 1100087778366101931, 1779979416004714189, 2880067194370816120, 4660046610375530309, 7540113804746346429, 12200160415121876738, 19740274219868223167, 31940434634990099905, 51680708854858323072, 83621143489848422977, 135301852344706746049, 218922995834555169026]\n"
     ]
    }
   ],
   "source": [
    "### 7. Fibonacci sequence using a for loop\n",
    "##```python\n",
    "def fibonacci(n):\n",
    "    fib_seq = [0, 1]\n",
    "    for i in range(2, n):\n",
    "        fib_seq.append(fib_seq[-1] + fib_seq[-2])\n",
    "    return fib_seq\n",
    "\n",
    "# Test\n",
    "print(fibonacci(100))  # Output: [0, 1, 2, 3, 5, 8, 13, 21, 34]\n",
    "##```\n"
   ]
  },
  {
   "cell_type": "code",
   "execution_count": 13,
   "id": "6687d1d7-ab09-4d4a-8cd3-f6ebab7b408e",
   "metadata": {},
   "outputs": [
    {
     "ename": "SyntaxError",
     "evalue": "incomplete input (3432236812.py, line 5)",
     "output_type": "error",
     "traceback": [
      "\u001b[1;36m  Cell \u001b[1;32mIn[13], line 5\u001b[1;36m\u001b[0m\n\u001b[1;33m    \u001b[0m\n\u001b[1;37m    ^\u001b[0m\n\u001b[1;31mSyntaxError\u001b[0m\u001b[1;31m:\u001b[0m incomplete input\n"
     ]
    }
   ],
   "source": [
    "def adding 3 numbers ,if any number is duplicate then multiply with the input\n",
    "\n",
    "a=int(input(\"enter value of a:\")\n",
    "b=int(input(\"enter value of b:\")\n",
    "c= int(input(\"enter value  of c)\n",
    "                    n=a+b+c\n",
    "                   if a=b=c:\n",
    "n=n*3\n"
   ]
  },
  {
   "cell_type": "code",
   "execution_count": null,
   "id": "31f17ce6-f247-4e76-be2e-4c36a3f3a689",
   "metadata": {},
   "outputs": [],
   "source": []
  },
  {
   "cell_type": "code",
   "execution_count": 17,
   "id": "084558e7-79ee-4a87-b02e-c38e88c94ca7",
   "metadata": {},
   "outputs": [
    {
     "name": "stdout",
     "output_type": "stream",
     "text": [
      "*\n",
      "**\n",
      "***\n",
      "****\n",
      "*****\n",
      "******\n",
      "*******\n",
      "********\n",
      "*********\n",
      "**********\n"
     ]
    }
   ],
   "source": [
    "#1. Star Program using a for loop\n",
    "#Print a right-angled triangle of stars.\n",
    "n = 10  # Number of rows\n",
    "for i in range(1, n + 1):\n",
    "    print('*' * i)\n",
    "\n"
   ]
  },
  {
   "cell_type": "code",
   "execution_count": 27,
   "id": "43fbad55-e5c5-41fb-ad4a-42dad9fec6ba",
   "metadata": {},
   "outputs": [
    {
     "name": "stdout",
     "output_type": "stream",
     "text": [
      "False\n",
      "True\n"
     ]
    }
   ],
   "source": [
    "### 2. Check if a number is prime using a for loop and conditional statements\n",
    "##```python\n",
    "def is_prime(num):\n",
    "    if num <= 1:\n",
    "        return False\n",
    "    for i in range(2, int(num ** 0.5) + 1):\n",
    "        if num % i == 0:\n",
    "            return False\n",
    "    return True\n",
    "\n",
    "# Test\n",
    "print(is_prime(1))  # Output: True\n",
    "print(is_prime(2))  # Output: False\n"
   ]
  },
  {
   "cell_type": "code",
   "execution_count": 31,
   "id": "bb860520-e112-44ad-8d85-84f0a9836979",
   "metadata": {},
   "outputs": [
    {
     "name": "stdout",
     "output_type": "stream",
     "text": [
      "101\n"
     ]
    }
   ],
   "source": [
    "### 3. Find the largest number in a list\n",
    "##```python\n",
    "def find_largest(numbers):\n",
    "    if not numbers:\n",
    "        return None\n",
    "    largest = numbers[0]\n",
    "    for num in numbers:\n",
    "        if num > largest:\n",
    "            largest = num\n",
    "    return largest\n",
    "\n",
    "# Test\n",
    "print(find_largest([90,92,88,19,11,100,101]))  # Output: 8\n"
   ]
  },
  {
   "cell_type": "code",
   "execution_count": 35,
   "id": "49ab24e1-5bb8-4bc3-aa92-e13786e70d03",
   "metadata": {},
   "outputs": [
    {
     "name": "stdout",
     "output_type": "stream",
     "text": [
      "{'a': 2, 'b': 2, 'c': 1, 'e': 3, 'l': 1, 'm': 1, 'n': 1, 't': 1, 's': 1}\n"
     ]
    }
   ],
   "source": [
    "### 4. Count the frequency of elements in a list using a dictionary\n",
    "##```python\n",
    "def count_frequency(lst):\n",
    "    frequency = {}\n",
    "    for item in lst:\n",
    "        if item in frequency:\n",
    "            frequency[item] += 1\n",
    "        else:\n",
    "            frequency[item] = 1\n",
    "    return frequency\n",
    "\n",
    "# Test\n",
    "print(count_frequency(['a', 'b', 'a', 'c', 'b','e','l','e','m','e','n','t','s' ]))  # Output: {'a': 3, 'b': 2, 'c': 1}\n"
   ]
  },
  {
   "cell_type": "code",
   "execution_count": 24,
   "id": "29e1852a-85f5-4459-b3c3-eb365433eb40",
   "metadata": {},
   "outputs": [
    {
     "data": {
      "text/plain": [
       "12"
      ]
     },
     "execution_count": 24,
     "metadata": {},
     "output_type": "execute_result"
    }
   ],
   "source": [
    "12"
   ]
  },
  {
   "cell_type": "code",
   "execution_count": 37,
   "id": "6f462dbe-6fd8-459d-973b-45d3af993354",
   "metadata": {},
   "outputs": [
    {
     "name": "stdout",
     "output_type": "stream",
     "text": [
      "['m', 't', 'l', 'b', 'a', 's', 'c', 'e', 'n']\n"
     ]
    }
   ],
   "source": [
    "### 5. Remove duplicates from a list using a set\n",
    "##```python\n",
    "def remove_duplicates(lst):\n",
    "    return list(set(lst))\n",
    "\n",
    "# Test\n",
    "##print(remove_duplicates([1, 2, 2, 3, 4, 4, 5])) \n",
    "print(remove_duplicates(['a', 'b', 'a', 'c', 'b','e','l','e','m','e','n','t','s' ]))# Output: [1, 2, 3, 4, 5]\n",
    "##```\n"
   ]
  },
  {
   "cell_type": "code",
   "execution_count": 38,
   "id": "4f457333-7130-41b1-82ae-08ca19451423",
   "metadata": {},
   "outputs": [
    {
     "name": "stdout",
     "output_type": "stream",
     "text": [
      "{'a': 1, 'b': 3, 'c': 4}\n"
     ]
    }
   ],
   "source": [
    "### 6. Merge two dictionaries\n",
    "##```python\n",
    "def merge_dicts(dict1, dict2):\n",
    "    merged = dict1.copy()  # Start with dict1's keys and values\n",
    "    merged.update(dict2)  # Update with dict2's keys and values\n",
    "    return merged\n",
    "\n",
    "# Test\n",
    "dict1 = {'a': 1, 'b': 2}\n",
    "dict2 = {'b': 3, 'c': 4}\n",
    "print(merge_dicts(dict1, dict2))  # Output: {'a': 1, 'b': 3, 'c': 4}\n",
    "##```\n"
   ]
  },
  {
   "cell_type": "code",
   "execution_count": 42,
   "id": "0a372fb1-96d4-4fc5-850f-387f57f63c7a",
   "metadata": {},
   "outputs": [
    {
     "name": "stdout",
     "output_type": "stream",
     "text": [
      "yddernaayva\n"
     ]
    }
   ],
   "source": [
    "### 8. Reverse a string using a for loop\n",
    "##```python\n",
    "def reverse_string(s):\n",
    "    reversed_str = ''\n",
    "    for char in s:\n",
    "        reversed_str = char + reversed_str\n",
    "    return reversed_str\n",
    "\n",
    "# Test\n",
    "print(reverse_string(\"avyaanreddy\"))  # Output: \"olleh\"\n",
    "#```\n",
    "\n"
   ]
  },
  {
   "cell_type": "code",
   "execution_count": 44,
   "id": "d83134bb-2900-4325-b358-d2fff4b3ef73",
   "metadata": {},
   "outputs": [
    {
     "name": "stdout",
     "output_type": "stream",
     "text": [
      "10900\n"
     ]
    }
   ],
   "source": [
    "### 9. Sum of values in a dictionary\n",
    "##```python\n",
    "def sum_dict_values(d):\n",
    "    return sum(d.values())\n",
    "\n",
    "# Test\n",
    "sample_dict = {'a': 1000, 'b': 2600, 'c': 7300}\n",
    "print(sum_dict_values(sample_dict))  # Output: 600\n",
    "##```\n"
   ]
  },
  {
   "cell_type": "code",
   "execution_count": 47,
   "id": "b5a3d44b-e75e-454e-a0c0-12dcd455aa32",
   "metadata": {},
   "outputs": [
    {
     "name": "stdout",
     "output_type": "stream",
     "text": [
      "False\n",
      "True\n"
     ]
    }
   ],
   "source": [
    "### 10. Check if a key exists in a dictionary\n",
    "##```python\n",
    "def key_exists(d, key):\n",
    "    return key in d\n",
    "\n",
    "# Test\n",
    "sample_dict = {'anil': 2024, 'avyaan': 2002, 'nisha': 2003}\n",
    "print(key_exists(sample_dict, 'kumar'))  # Output: True\n",
    "print(key_exists(sample_dict, 'anil'))  # Output: False\n",
    "##```\n"
   ]
  },
  {
   "cell_type": "code",
   "execution_count": 51,
   "id": "61cb4702-b577-49cd-8e7c-344d5c05cc88",
   "metadata": {},
   "outputs": [
    {
     "name": "stdout",
     "output_type": "stream",
     "text": [
      "11\n"
     ]
    }
   ],
   "source": [
    "### 11. Find the second largest number in a list\n",
    "##```python\n",
    "def second_largest(numbers):\n",
    "    first, second = float('-inf'), float('-inf')\n",
    "    for num in numbers:\n",
    "        if num > first:\n",
    "            first, second = num, first\n",
    "        elif num > second and num != first:\n",
    "            second = num\n",
    "    return second\n",
    "\n",
    "# Test\n",
    "print(second_largest([3, 7,5,6,7,-7, 2, 8, 8,10,11,40]))  # Output: 7\n",
    "#```\n"
   ]
  },
  {
   "cell_type": "code",
   "execution_count": 56,
   "id": "b40a2a3e-f7f4-4ff8-a646-1c490e08b2ec",
   "metadata": {},
   "outputs": [
    {
     "name": "stdout",
     "output_type": "stream",
     "text": [
      "True\n",
      "True\n"
     ]
    }
   ],
   "source": [
    "### 12. Check if a string is a palindrome\n",
    "##```python\n",
    "def is_palindrome(s):\n",
    "    return s == s[::-1]\n",
    "\n",
    "# Test\n",
    "print(is_palindrome(\"anilina\"))  # Output: True\n",
    "print(is_palindrome(\"hellolleh\"))  # Output: False\n",
    "##```\n"
   ]
  },
  {
   "cell_type": "code",
   "execution_count": 59,
   "id": "b6506a94-806a-4401-a6b1-6c4c27464cde",
   "metadata": {},
   "outputs": [
    {
     "name": "stdout",
     "output_type": "stream",
     "text": [
      "[3, 6, -1]\n"
     ]
    }
   ],
   "source": [
    "### 13. Find the intersection of two lists\n",
    "####```python\n",
    "def intersection(lst1, lst2):\n",
    "    return list(set(lst1) & set(lst2))\n",
    "\n",
    "# Test\n",
    "print(intersection([1, 2, 3, 6,0,-1], [3, 4, 5, 6,-1]))  # Output: [3, 4]\n",
    "##```\n"
   ]
  },
  {
   "cell_type": "code",
   "execution_count": 62,
   "id": "f2f47445-bd86-452e-b529-920b54555d2d",
   "metadata": {},
   "outputs": [
    {
     "name": "stdout",
     "output_type": "stream",
     "text": [
      "[1, 2, 3, 4, 5, 6]\n"
     ]
    }
   ],
   "source": [
    "### 14. Find the union of two lists\n",
    "#```python\n",
    "def union(lst1, lst2):\n",
    "    return list(set(lst1) | set(lst2))\n",
    "\n",
    "# Test\n",
    "print(union([1,2,4,5], [3, 4, 5, 6]))  # Output: [1, 2, 3, 4, 5, 6]\n",
    "#```\n"
   ]
  },
  {
   "cell_type": "code",
   "execution_count": null,
   "id": "52fabb2c-adde-479e-b07f-35920e4ac676",
   "metadata": {},
   "outputs": [],
   "source": []
  },
  {
   "cell_type": "code",
   "execution_count": null,
   "id": "e658971e-ad3a-4280-9ff8-9033e3353cbe",
   "metadata": {},
   "outputs": [],
   "source": []
  }
 ],
 "metadata": {
  "kernelspec": {
   "display_name": "Python 3 (ipykernel)",
   "language": "python",
   "name": "python3"
  },
  "language_info": {
   "codemirror_mode": {
    "name": "ipython",
    "version": 3
   },
   "file_extension": ".py",
   "mimetype": "text/x-python",
   "name": "python",
   "nbconvert_exporter": "python",
   "pygments_lexer": "ipython3",
   "version": "3.12.4"
  }
 },
 "nbformat": 4,
 "nbformat_minor": 5
}
