{
 "cells": [
  {
   "cell_type": "code",
   "execution_count": null,
   "id": "b5ef25d4-4327-4fc4-9d39-f5579ff4bfee",
   "metadata": {},
   "outputs": [],
   "source": [
    "lst=[1,2,3,6,9]\n"
   ]
  }
 ],
 "metadata": {
  "kernelspec": {
   "display_name": "Python 3 (ipykernel)",
   "language": "python",
   "name": "python3"
  },
  "language_info": {
   "codemirror_mode": {
    "name": "ipython",
    "version": 3
   },
   "file_extension": ".py",
   "mimetype": "text/x-python",
   "name": "python",
   "nbconvert_exporter": "python",
   "pygments_lexer": "ipython3",
   "version": "3.12.4"
  }
 },
 "nbformat": 4,
 "nbformat_minor": 5
}
