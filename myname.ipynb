{
 "cells": [
  {
   "cell_type": "code",
   "execution_count": 8,
   "id": "130ba5ef-b654-4cf5-b236-2f70b137334d",
   "metadata": {},
   "outputs": [
    {
     "name": "stdout",
     "output_type": "stream",
     "text": [
      "my name is: anil\n",
      "my age is:  30\n",
      "price is: 60\n"
     ]
    }
   ],
   "source": [
    "name=\"anil\"\n",
    "age=30\n",
    "price=60\n",
    "print(\"my name is:\", name)\n",
    "print(\"my age is: \",age)\n",
    "print(\"price is:\",price)"
   ]
  },
  {
   "cell_type": "code",
   "execution_count": null,
   "id": "358a2f65-7513-48bc-b475-6b872e676ced",
   "metadata": {},
   "outputs": [],
   "source": []
  }
 ],
 "metadata": {
  "kernelspec": {
   "display_name": "Python 3 (ipykernel)",
   "language": "python",
   "name": "python3"
  },
  "language_info": {
   "codemirror_mode": {
    "name": "ipython",
    "version": 3
   },
   "file_extension": ".py",
   "mimetype": "text/x-python",
   "name": "python",
   "nbconvert_exporter": "python",
   "pygments_lexer": "ipython3",
   "version": "3.12.4"
  }
 },
 "nbformat": 4,
 "nbformat_minor": 5
}
