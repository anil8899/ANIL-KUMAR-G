{
 "cells": [
  {
   "cell_type": "code",
   "execution_count": null,
   "id": "427c656d-86bb-4b71-842c-b05c78f630a7",
   "metadata": {},
   "outputs": [],
   "source": [
    "#Check if All Characters are Unique\n",
    "def unique\n",
    "if number="
   ]
  }
 ],
 "metadata": {
  "kernelspec": {
   "display_name": "Python 3 (ipykernel)",
   "language": "python",
   "name": "python3"
  },
  "language_info": {
   "codemirror_mode": {
    "name": "ipython",
    "version": 3
   },
   "file_extension": ".py",
   "mimetype": "text/x-python",
   "name": "python",
   "nbconvert_exporter": "python",
   "pygments_lexer": "ipython3",
   "version": "3.12.4"
  }
 },
 "nbformat": 4,
 "nbformat_minor": 5
}
