{
 "cells": [
  {
   "cell_type": "code",
   "execution_count": 1,
   "id": "7d3a0e71-2601-4b3b-9f29-2949420b50fb",
   "metadata": {},
   "outputs": [],
   "source": [
    "import pandas as pd\n",
    "import matplotlib.pyplot as plt\n",
    "import seaborn as sns\n",
    "import sklearn\n",
    "import warnings\n",
    "\n",
    "from sklearn.preprocessing import LabelEncoder\n",
    "from sklearn.impute import KNNImputer\n",
    "from sklearn.model_selection import train_test_split\n",
    "from sklearn.preprocessing import StandardScaler\n",
    "from sklearn.metrics import f1_score\n",
    "from sklearn.ensemble import RandomForestRegressor\n",
    "from sklearn.ensemble import RandomForestRegressor\n",
    "from sklearn.model_selection import cross_val_score\n",
    "\n",
    "warnings.filterwarnings('ignore')"
   ]
  },
  {
   "cell_type": "code",
   "execution_count": 2,
   "id": "94d18bf9-e427-4f6d-9bf6-f1fe20a80ae0",
   "metadata": {},
   "outputs": [
    {
     "name": "stdout",
     "output_type": "stream",
     "text": [
      "        Customer Id  Account Balance  Min Balance  Max Balance  Annual Income  \\\n",
      "0              1000          6471.37      6412.30      6627.08       60177.93   \n",
      "1              1001          8530.49      7028.18     10372.52       70074.33   \n",
      "2              1002         11324.34      6057.07     13275.16      116521.06   \n",
      "3              1003          8055.84      3832.26      8895.83       49277.74   \n",
      "4              1004         11020.54      5591.65     12032.74      159679.98   \n",
      "...             ...              ...          ...          ...            ...   \n",
      "299995       300995          8743.58      8144.06     10609.89       32686.05   \n",
      "299996       300996          7416.78      7009.85      9370.48       99345.36   \n",
      "299997       300997          9155.73      6157.49     10555.90      127258.35   \n",
      "299998       300998          3208.90      2443.24      5469.76       23829.75   \n",
      "299999       300999          9707.26      8467.83     10156.13       83515.67   \n",
      "\n",
      "       Banking Behaviour       Products Account Type  \\\n",
      "0                    Low    Credit Card       Salary   \n",
      "1                   High  Personal Loan       Salary   \n",
      "2                 Medium    Credit Card       Salary   \n",
      "3                 Medium  Personal Loan       Salary   \n",
      "4                   High    Credit Card      Current   \n",
      "...                  ...            ...          ...   \n",
      "299995              High  Business Loan      Current   \n",
      "299996               Low      Home Loan      Current   \n",
      "299997              High  Business Loan      Savings   \n",
      "299998              High  Business Loan      Savings   \n",
      "299999            Medium      Home Loan       Salary   \n",
      "\n",
      "        Low Transaction Frequency  Large Withdrawals or Transfers  ...  \\\n",
      "0                           False                           False  ...   \n",
      "1                           False                           False  ...   \n",
      "2                            True                           False  ...   \n",
      "3                            True                           False  ...   \n",
      "4                            True                           False  ...   \n",
      "...                           ...                             ...  ...   \n",
      "299995                      False                           False  ...   \n",
      "299996                      False                           False  ...   \n",
      "299997                      False                            True  ...   \n",
      "299998                      False                           False  ...   \n",
      "299999                      False                           False  ...   \n",
      "\n",
      "        Transcation Type  Transcation Channel  Average Transaction Amount  \\\n",
      "0                  Debit                  UPI                    6519.690   \n",
      "1                 Credit  Visiting the branch                    8700.350   \n",
      "2                 Credit  Visiting the branch                    9666.115   \n",
      "3                 Credit                  ATM                    6364.045   \n",
      "4                 Credit  Visiting the branch                    8812.195   \n",
      "...                  ...                  ...                         ...   \n",
      "299995            Credit           Netbanking                    9376.975   \n",
      "299996             Debit                  UPI                    8190.165   \n",
      "299997            Credit                  ATM                    8356.695   \n",
      "299998            Credit           Netbanking                    3956.500   \n",
      "299999            Credit  Visiting the branch                    9311.980   \n",
      "\n",
      "        Number of Transactions monthly_emi_deduction Outstanding EMI Left  \\\n",
      "0                            5               1821.98             21863.80   \n",
      "1                           36                  0.00                 0.00   \n",
      "2                           74                  0.00                 0.00   \n",
      "3                           78               5100.23            122405.46   \n",
      "4                            9               2622.32             31467.79   \n",
      "...                        ...                   ...                  ...   \n",
      "299995                      14              15280.78            916846.52   \n",
      "299996                      97              18833.00           4519921.11   \n",
      "299997                      98               9406.99            564419.64   \n",
      "299998                      71              31212.21           1872732.66   \n",
      "299999                      44              17775.80           4266192.21   \n",
      "\n",
      "        EMI Going On    Investments  Credit Card Utilization  Churn  \n",
      "0                Yes  Fixed Deposit                      LOW   True  \n",
      "1                 No            SIP                   MEDIUM   True  \n",
      "2                 No           GOLD                     HIGH   True  \n",
      "3                Yes  Fixed Deposit                      LOW   True  \n",
      "4                Yes            SIP                      LOW   True  \n",
      "...              ...            ...                      ...    ...  \n",
      "299995           Yes           GOLD                   MEDIUM   True  \n",
      "299996           Yes  Fixed Deposit                   MEDIUM  False  \n",
      "299997           Yes  Fixed Deposit                     HIGH   True  \n",
      "299998           Yes            SIP                   MEDIUM   True  \n",
      "299999           Yes           GOLD                      LOW  False  \n",
      "\n",
      "[300000 rows x 24 columns]\n"
     ]
    }
   ],
   "source": [
    "df= pd.read_csv('E://Data_Science_AI_Master_Program//Data Science//customer_churn_dataset_new.csv')\n",
    "print(df)"
   ]
  },
  {
   "cell_type": "code",
   "execution_count": 3,
   "id": "64b5927c-1b56-433e-a96e-310d250232f9",
   "metadata": {},
   "outputs": [
    {
     "name": "stdout",
     "output_type": "stream",
     "text": [
      "<class 'pandas.core.frame.DataFrame'>\n",
      "RangeIndex: 300000 entries, 0 to 299999\n",
      "Data columns (total 24 columns):\n",
      " #   Column                                    Non-Null Count   Dtype  \n",
      "---  ------                                    --------------   -----  \n",
      " 0   Customer Id                               300000 non-null  int64  \n",
      " 1   Account Balance                           300000 non-null  float64\n",
      " 2   Min Balance                               300000 non-null  float64\n",
      " 3   Max Balance                               300000 non-null  float64\n",
      " 4   Annual Income                             300000 non-null  float64\n",
      " 5   Banking Behaviour                         300000 non-null  object \n",
      " 6   Products                                  300000 non-null  object \n",
      " 7   Account Type                              300000 non-null  object \n",
      " 8   Low Transaction Frequency                 300000 non-null  bool   \n",
      " 9   Large Withdrawals or Transfers            300000 non-null  bool   \n",
      " 10  Inactive Online Banking/Mobile App Usage  300000 non-null  bool   \n",
      " 11  High Complaint Count                      300000 non-null  bool   \n",
      " 12  Low Product Utilization                   300000 non-null  bool   \n",
      " 13  Drop in Account Balance                   300000 non-null  bool   \n",
      " 14  Transcation Type                          300000 non-null  object \n",
      " 15  Transcation Channel                       300000 non-null  object \n",
      " 16  Average Transaction Amount                300000 non-null  float64\n",
      " 17  Number of Transactions                    300000 non-null  int64  \n",
      " 18  monthly_emi_deduction                     300000 non-null  float64\n",
      " 19  Outstanding EMI Left                      300000 non-null  float64\n",
      " 20  EMI Going On                              300000 non-null  object \n",
      " 21  Investments                               300000 non-null  object \n",
      " 22  Credit Card Utilization                   300000 non-null  object \n",
      " 23  Churn                                     300000 non-null  bool   \n",
      "dtypes: bool(7), float64(7), int64(2), object(8)\n",
      "memory usage: 40.9+ MB\n"
     ]
    }
   ],
   "source": [
    "df.info()"
   ]
  },
  {
   "cell_type": "code",
   "execution_count": 5,
   "id": "556d37fd-8d4b-4010-bc84-7648ecbe5c80",
   "metadata": {},
   "outputs": [
    {
     "ename": "SyntaxError",
     "evalue": "invalid non-printable character U+00A0 (3710410493.py, line 2)",
     "output_type": "error",
     "traceback": [
      "\u001b[1;36m  Cell \u001b[1;32mIn[5], line 2\u001b[1;36m\u001b[0m\n\u001b[1;33m    X = df.iloc[:,1:2].values\u001b[0m\n\u001b[1;37m                             ^\u001b[0m\n\u001b[1;31mSyntaxError\u001b[0m\u001b[1;31m:\u001b[0m invalid non-printable character U+00A0\n"
     ]
    }
   ],
   "source": [
    "# Assuming df is your DataFrame\n",
    "X = df.iloc[:,1:2].values  \n",
    "y = df.iloc[:,2].values "
   ]
  },
  {
   "cell_type": "code",
   "execution_count": 7,
   "id": "cefd4ab2-16da-443a-b362-26408bee1c69",
   "metadata": {},
   "outputs": [],
   "source": [
    "X = df.iloc[:, 1:2].values\n",
    "y = df.iloc[:, 2].values"
   ]
  },
  {
   "cell_type": "code",
   "execution_count": 8,
   "id": "74a673a3-b1bb-46b6-bbf8-fc03ab345ca4",
   "metadata": {},
   "outputs": [
    {
     "ename": "IndentationError",
     "evalue": "unexpected indent (195663527.py, line 5)",
     "output_type": "error",
     "traceback": [
      "\u001b[1;36m  Cell \u001b[1;32mIn[8], line 5\u001b[1;36m\u001b[0m\n\u001b[1;33m    Check for and handle categorical variables\u001b[0m\n\u001b[1;37m    ^\u001b[0m\n\u001b[1;31mIndentationError\u001b[0m\u001b[1;31m:\u001b[0m unexpected indent\n"
     ]
    }
   ],
   "source": [
    "import pandas as pd\n",
    "from sklearn.ensemble import RandomForestRegressor\n",
    "from sklearn.preprocessing import LabelEncoder\n",
    "\n",
    " Check for and handle categorical variables\n",
    "label_encoder = LabelEncoder()\n",
    "x_categorical = df.select_dtypes(include=['object']).apply(label_encoder.fit_transform)\n",
    "x_numerical = df.select_dtypes(exclude=['object']).values\n",
    "x = pd.concat([pd.DataFrame(x_numerical), x_categorical], axis=1).values\n",
    "\n",
    "# Fitting Random Forest Regression to the dataset\n",
    "regressor = RandomForestRegressor(n_estimators=10, random_state=0, oob_score=True)\n",
    "\n",
    "# Fit the regressor with x and y data\n",
    "regressor.fit(x, y)"
   ]
  },
  {
   "cell_type": "code",
   "execution_count": null,
   "id": "d0547a4a-a2ef-4648-a868-6ebc5bb32a36",
   "metadata": {},
   "outputs": [],
   "source": []
  }
 ],
 "metadata": {
  "kernelspec": {
   "display_name": "Python 3 (ipykernel)",
   "language": "python",
   "name": "python3"
  },
  "language_info": {
   "codemirror_mode": {
    "name": "ipython",
    "version": 3
   },
   "file_extension": ".py",
   "mimetype": "text/x-python",
   "name": "python",
   "nbconvert_exporter": "python",
   "pygments_lexer": "ipython3",
   "version": "3.12.4"
  }
 },
 "nbformat": 4,
 "nbformat_minor": 5
}
