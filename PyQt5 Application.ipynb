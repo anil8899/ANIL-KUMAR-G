{
 "cells": [
  {
   "cell_type": "code",
   "execution_count": 1,
   "id": "677f1b24-d6d3-42e1-aa58-415f2c8d8504",
   "metadata": {},
   "outputs": [
    {
     "ename": "SystemExit",
     "evalue": "0",
     "output_type": "error",
     "traceback": [
      "An exception has occurred, use %tb to see the full traceback.\n",
      "\u001b[1;31mSystemExit\u001b[0m\u001b[1;31m:\u001b[0m 0\n"
     ]
    },
    {
     "name": "stderr",
     "output_type": "stream",
     "text": [
      "C:\\Users\\Nishitha Anil\\anaconda3\\Lib\\site-packages\\IPython\\core\\interactiveshell.py:3585: UserWarning: To exit: use 'exit', 'quit', or Ctrl-D.\n",
      "  warn(\"To exit: use 'exit', 'quit', or Ctrl-D.\", stacklevel=1)\n"
     ]
    }
   ],
   "source": [
    "import sys\n",
    "from PyQt5.QtWidgets import QApplication, QLabel, QWidget\n",
    "\n",
    "# Create an application object\n",
    "app = QApplication(sys.argv)\n",
    "\n",
    "# Create a window (QWidget)\n",
    "window = QWidget()\n",
    "window.setWindowTitle('Hello PyQt5')\n",
    "window.setGeometry(1000, 1000, 2800, 800)\n",
    "\n",
    "# Add a label to the window\n",
    "label = QLabel('<h1>Hello Anil Sir , Welcome to data science </h1>', parent=window)\n",
    "label.move(60, 15)\n",
    "\n",
    "# Show the window\n",
    "window.show()\n",
    "\n",
    "# Start the application loop\n",
    "sys.exit(app.exec_())\n"
   ]
  },
  {
   "cell_type": "code",
   "execution_count": 1,
   "id": "5d94497a-8090-455f-9a64-04ac38504287",
   "metadata": {},
   "outputs": [
    {
     "ename": "SystemExit",
     "evalue": "0",
     "output_type": "error",
     "traceback": [
      "An exception has occurred, use %tb to see the full traceback.\n",
      "\u001b[1;31mSystemExit\u001b[0m\u001b[1;31m:\u001b[0m 0\n"
     ]
    },
    {
     "name": "stderr",
     "output_type": "stream",
     "text": [
      "C:\\Users\\Nishitha Anil\\anaconda3\\Lib\\site-packages\\IPython\\core\\interactiveshell.py:3585: UserWarning: To exit: use 'exit', 'quit', or Ctrl-D.\n",
      "  warn(\"To exit: use 'exit', 'quit', or Ctrl-D.\", stacklevel=1)\n"
     ]
    }
   ],
   "source": [
    "import sys\n",
    "from PyQt5.QtWidgets import QApplication, QWidget, QPushButton, QLabel, QLineEdit, QVBoxLayout\n",
    "\n",
    "# Define the main application\n",
    "def on_click():\n",
    "    label.setText(\"Button clicked!\")\n",
    "\n",
    "app = QApplication(sys.argv)\n",
    "\n",
    "# Create a window\n",
    "window = QWidget()\n",
    "window.setWindowTitle('Simple PyQt5 App')\n",
    "\n",
    "# Create widgets\n",
    "button = QPushButton('Click Me', window)\n",
    "label = QLabel('Hello, PyQt5', window)\n",
    "text_input = QLineEdit(window)\n",
    "\n",
    "# Connect button click event to the on_click function\n",
    "button.clicked.connect(on_click)\n",
    "\n",
    "# Set layout\n",
    "layout = QVBoxLayout()\n",
    "layout.addWidget(label)\n",
    "layout.addWidget(text_input)\n",
    "layout.addWidget(button)\n",
    "\n",
    "# Apply the layout to the window\n",
    "window.setLayout(layout)\n",
    "window.show()\n",
    "\n",
    "# Run the application\n",
    "sys.exit(app.exec_())\n"
   ]
  },
  {
   "cell_type": "code",
   "execution_count": 1,
   "id": "5056d872-1df5-4e77-a842-0dc4c6161d9c",
   "metadata": {},
   "outputs": [
    {
     "ename": "SystemExit",
     "evalue": "0",
     "output_type": "error",
     "traceback": [
      "An exception has occurred, use %tb to see the full traceback.\n",
      "\u001b[1;31mSystemExit\u001b[0m\u001b[1;31m:\u001b[0m 0\n"
     ]
    },
    {
     "name": "stderr",
     "output_type": "stream",
     "text": [
      "C:\\Users\\Nishitha Anil\\anaconda3\\Lib\\site-packages\\IPython\\core\\interactiveshell.py:3585: UserWarning: To exit: use 'exit', 'quit', or Ctrl-D.\n",
      "  warn(\"To exit: use 'exit', 'quit', or Ctrl-D.\", stacklevel=1)\n"
     ]
    }
   ],
   "source": [
    "import sys\n",
    "from PyQt5.QtWidgets import QApplication, QWidget, QPushButton, QVBoxLayout\n",
    "\n",
    "app = QApplication(sys.argv)\n",
    "\n",
    "# Create a window\n",
    "window = QWidget()\n",
    "window.setWindowTitle('Layout Example')\n",
    "\n",
    "# Create buttons\n",
    "button1 = QPushButton('Button 1', window)\n",
    "button2 = QPushButton('Button 2', window)\n",
    "button3 = QPushButton('Button 3', window)\n",
    "\n",
    "# Use QVBoxLayout\n",
    "layout = QVBoxLayout()\n",
    "layout.addWidget(button1)\n",
    "layout.addWidget(button2)\n",
    "layout.addWidget(button3)\n",
    "\n",
    "# Set layout to the window\n",
    "window.setLayout(layout)\n",
    "\n",
    "# Show window\n",
    "window.show()\n",
    "\n",
    "sys.exit(app.exec_())\n"
   ]
  },
  {
   "cell_type": "code",
   "execution_count": null,
   "id": "20aa1fa0-be68-405b-aef0-9f27a3715aef",
   "metadata": {},
   "outputs": [],
   "source": []
  }
 ],
 "metadata": {
  "kernelspec": {
   "display_name": "Python 3 (ipykernel)",
   "language": "python",
   "name": "python3"
  },
  "language_info": {
   "codemirror_mode": {
    "name": "ipython",
    "version": 3
   },
   "file_extension": ".py",
   "mimetype": "text/x-python",
   "name": "python",
   "nbconvert_exporter": "python",
   "pygments_lexer": "ipython3",
   "version": "3.12.4"
  }
 },
 "nbformat": 4,
 "nbformat_minor": 5
}
