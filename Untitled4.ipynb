{
 "cells": [
  {
   "cell_type": "code",
   "execution_count": 11,
   "id": "5b618dac-47a7-41af-ac6a-ef34e8d55951",
   "metadata": {},
   "outputs": [
    {
     "ename": "SyntaxError",
     "evalue": "invalid syntax (1152907031.py, line 11)",
     "output_type": "error",
     "traceback": [
      "\u001b[1;36m  Cell \u001b[1;32mIn[11], line 11\u001b[1;36m\u001b[0m\n\u001b[1;33m    of i%3==0 and i%5==0;\u001b[0m\n\u001b[1;37m       ^\u001b[0m\n\u001b[1;31mSyntaxError\u001b[0m\u001b[1;31m:\u001b[0m invalid syntax\n"
     ]
    }
   ],
   "source": [
    "#write a program for fizzbuzz\n",
    "\n",
    "##def fizzbuzz(numbers):\n",
    "  ##  return[num for num in number if num i%3==0]\n",
    "   ## original_list = [1, 2, 3, 4, 5, 6, 7, 8, 9, 10\n",
    "        ##           if  print=[  ##\n",
    "\n",
    "\n",
    "def fizzbuzz(list):\n",
    "    for i in list:\n",
    "        of i%3==0 and i%5==0:\n",
    "        print(fizzbuzz)\n",
    "elif if i%3==0:\n",
    "    print(fizz)\n",
    "elif if i%5==0:\n",
    "    print(buzz)\n",
    "else:\n",
    "    print(i)\n",
    "    fizzbuzz(n)\n",
    "    \n",
    "    "
   ]
  },
  {
   "cell_type": "code",
   "execution_count": 8,
   "id": "f4f10a41-6be2-436c-af8d-a3e97f6c0591",
   "metadata": {},
   "outputs": [
    {
     "ename": "SyntaxError",
     "evalue": "invalid syntax (87331262.py, line 4)",
     "output_type": "error",
     "traceback": [
      "\u001b[1;36m  Cell \u001b[1;32mIn[8], line 4\u001b[1;36m\u001b[0m\n\u001b[1;33m    if number num % 2 == 0\u001b[0m\n\u001b[1;37m              ^\u001b[0m\n\u001b[1;31mSyntaxError\u001b[0m\u001b[1;31m:\u001b[0m invalid syntax\n"
     ]
    }
   ],
   "source": [
    "#write a program for sum of even number using comprehencive\n",
    "\n",
    "def get_even_numbers (numbers):\n",
    "    if number num % 2 == 0\n",
    "    for i in range(1,250)\n",
    "    i\n",
    "    print(even_numbers)\n",
    "    print(\n",
    "\n",
    "\n",
    "\n",
    "    "
   ]
  },
  {
   "cell_type": "code",
   "execution_count": 14,
   "id": "c699aec0-cd19-469a-ac1b-894fd276b948",
   "metadata": {},
   "outputs": [
    {
     "ename": "TypeError",
     "evalue": "sum_of_even() takes 0 positional arguments but 1 was given",
     "output_type": "error",
     "traceback": [
      "\u001b[1;31m---------------------------------------------------------------------------\u001b[0m",
      "\u001b[1;31mTypeError\u001b[0m                                 Traceback (most recent call last)",
      "Cell \u001b[1;32mIn[14], line 12\u001b[0m\n\u001b[0;32m      9\u001b[0m             \u001b[38;5;28msum\u001b[39m\u001b[38;5;241m+\u001b[39m\u001b[38;5;241m=\u001b[39mi\n\u001b[0;32m     10\u001b[0m             \u001b[38;5;28mprint\u001b[39m(\u001b[38;5;28msum\u001b[39m)\n\u001b[1;32m---> 12\u001b[0m sum_of_even(\u001b[38;5;241m250\u001b[39m)\n",
      "\u001b[1;31mTypeError\u001b[0m: sum_of_even() takes 0 positional arguments but 1 was given"
     ]
    }
   ],
   "source": [
    "#write a program for sum of even number using comprehencive\n",
    "def sum_of_even():\n",
    "    list=[]\n",
    "    sum=0\n",
    "    for i in range[1,n+1]:\n",
    "        list.append(i)\n",
    "        even=[j for j in list if j%2==0]\n",
    "        for i in even:\n",
    "            sum+=i\n",
    "            print(sum)\n",
    "\n",
    "sum_of_even(250)\n",
    "    "
   ]
  },
  {
   "cell_type": "code",
   "execution_count": 22,
   "id": "9ef9913e-bcfc-46c8-9d2b-3943d8bb8514",
   "metadata": {},
   "outputs": [
    {
     "ename": "NameError",
     "evalue": "name 'x' is not defined",
     "output_type": "error",
     "traceback": [
      "\u001b[1;31m---------------------------------------------------------------------------\u001b[0m",
      "\u001b[1;31mNameError\u001b[0m                                 Traceback (most recent call last)",
      "Cell \u001b[1;32mIn[22], line 11\u001b[0m\n\u001b[0;32m      8\u001b[0m      \u001b[38;5;28msum\u001b[39m\u001b[38;5;241m+\u001b[39m\u001b[38;5;241m=\u001b[39mi\n\u001b[0;32m      9\u001b[0m      x\u001b[38;5;241m=\u001b[39m\u001b[38;5;28msum\u001b[39m\u001b[38;5;241m/\u001b[39m\u001b[38;5;28mlen\u001b[39m(\u001b[38;5;28mlist\u001b[39m)\n\u001b[1;32m---> 11\u001b[0m \u001b[38;5;28mprint\u001b[39m(x)\n",
      "\u001b[1;31mNameError\u001b[0m: name 'x' is not defined"
     ]
    }
   ],
   "source": [
    "#generate list numbers and add the value in the number and divide the output for the list and find the output\n",
    "def sum_of_n ():\n",
    "   for i in range(1,n+1):\n",
    "    list.uppend(i)\n",
    "\n",
    "\n",
    "   for i in list:\n",
    "     sum+=i\n",
    "     x=sum/len(list)\n",
    "\n",
    "print(x)\n",
    "\n",
    "\n"
   ]
  },
  {
   "cell_type": "code",
   "execution_count": 1,
   "id": "dddf3c7f-ff9f-4a26-828f-2bb234f52bf6",
   "metadata": {},
   "outputs": [
    {
     "name": "stdout",
     "output_type": "stream",
     "text": [
      "1 2 Fizz 4 Buzz Fizz 7 8 Fizz Buzz 11 Fizz 13 14 FizzBuzz 16 17 Fizz 19 Buzz\n"
     ]
    }
   ],
   "source": [
    "def fizz_buzz(n): \n",
    "\t# Declare a list of strings to store the results \n",
    "\tresult = [] \n",
    "\n",
    "\t# Loop from 1 to n (inclusive) \n",
    "\tfor i in range(1, n + 1): \n",
    "\n",
    "\t\t# Check if i is divisible by both 3 and 5 \n",
    "\t\tif i % 3 == 0 and i % 5 == 0: \n",
    "\n",
    "\t\t\t# Add \"FizzBuzz\" to the result list \n",
    "\t\t\tresult.append(\"FizzBuzz\") \n",
    "\n",
    "\t\t# Check if i is divisible by 3 \n",
    "\t\telif i % 3 == 0: \n",
    "\n",
    "\t\t\t# Add \"Fizz\" to the result list \n",
    "\t\t\tresult.append(\"Fizz\") \n",
    "\n",
    "\t\t# Check if i is divisible by 5 \n",
    "\t\telif i % 5 == 0: \n",
    "\n",
    "\t\t\t# Add \"Buzz\" to the result list \n",
    "\t\t\tresult.append(\"Buzz\") \n",
    "\t\telse: \n",
    "\n",
    "\t\t\t# Add the current number as a string to the \n",
    "\t\t\t# result list \n",
    "\t\t\tresult.append(str(i)) \n",
    "\n",
    "\t# Return the result list \n",
    "\treturn result \n",
    "\n",
    "\n",
    "# Driver code \n",
    "n = 20\n",
    "\n",
    "# Call the fizz_buzz function to get the result \n",
    "result = fizz_buzz(n) \n",
    "\n",
    "# Print the result \n",
    "print(' '.join(result)) \n"
   ]
  },
  {
   "cell_type": "code",
   "execution_count": null,
   "id": "bf0625e3-890b-4073-b84c-2e376201bb04",
   "metadata": {},
   "outputs": [],
   "source": []
  }
 ],
 "metadata": {
  "kernelspec": {
   "display_name": "Python 3 (ipykernel)",
   "language": "python",
   "name": "python3"
  },
  "language_info": {
   "codemirror_mode": {
    "name": "ipython",
    "version": 3
   },
   "file_extension": ".py",
   "mimetype": "text/x-python",
   "name": "python",
   "nbconvert_exporter": "python",
   "pygments_lexer": "ipython3",
   "version": "3.12.4"
  }
 },
 "nbformat": 4,
 "nbformat_minor": 5
}
