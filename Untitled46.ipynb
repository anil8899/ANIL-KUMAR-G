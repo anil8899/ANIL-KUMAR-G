{
 "cells": [
  {
   "cell_type": "code",
   "execution_count": 1,
   "id": "61a18642-856b-4e43-927f-6c84b66bcf4f",
   "metadata": {},
   "outputs": [],
   "source": [
    "list=(1,2,4,6,3,6,7,8,9,2,1)"
   ]
  },
  {
   "cell_type": "code",
   "execution_count": 2,
   "id": "d3639866-c0a6-4a3b-b99d-36cebc3293e8",
   "metadata": {},
   "outputs": [
    {
     "ename": "SyntaxError",
     "evalue": "expected '(' (2915784477.py, line 1)",
     "output_type": "error",
     "traceback": [
      "\u001b[1;36m  Cell \u001b[1;32mIn[2], line 1\u001b[1;36m\u001b[0m\n\u001b[1;33m    def duplication i=0\u001b[0m\n\u001b[1;37m                    ^\u001b[0m\n\u001b[1;31mSyntaxError\u001b[0m\u001b[1;31m:\u001b[0m expected '('\n"
     ]
    }
   ],
   "source": [
    "def newlist"
   ]
  },
  {
   "cell_type": "code",
   "execution_count": null,
   "id": "c48f00b3-002c-418d-a69d-1e50e3022b47",
   "metadata": {},
   "outputs": [],
   "source": []
  }
 ],
 "metadata": {
  "kernelspec": {
   "display_name": "Python 3 (ipykernel)",
   "language": "python",
   "name": "python3"
  },
  "language_info": {
   "codemirror_mode": {
    "name": "ipython",
    "version": 3
   },
   "file_extension": ".py",
   "mimetype": "text/x-python",
   "name": "python",
   "nbconvert_exporter": "python",
   "pygments_lexer": "ipython3",
   "version": "3.12.4"
  }
 },
 "nbformat": 4,
 "nbformat_minor": 5
}
