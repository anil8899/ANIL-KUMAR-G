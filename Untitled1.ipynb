{
 "cells": [
  {
   "cell_type": "code",
   "execution_count": 7,
   "id": "b19a892f-86df-499f-8d38-7e1603a21f57",
   "metadata": {},
   "outputs": [
    {
     "name": "stdout",
     "output_type": "stream",
     "text": [
      "[1, 8, 2, 3, 4]\n"
     ]
    }
   ],
   "source": [
    "#adding two list\n",
    "\n",
    "X=[1,2,3,4]\n",
    "X.insert(1,8)\n",
    "print(X)"
   ]
  },
  {
   "cell_type": "code",
   "execution_count": 16,
   "id": "67e64809-ac6e-4c70-b36e-04e9f90133d2",
   "metadata": {},
   "outputs": [
    {
     "name": "stdout",
     "output_type": "stream",
     "text": [
      "['mango', 'grapes', 'organe', 'pineapple', 'kivi']\n"
     ]
    }
   ],
   "source": [
    "fruitslist=[\"apple\",\"mango\",\"grapes\",\"organe\"]\n",
    "fruitslist.append(\"pineapple\")\n",
    "fruitslist.append(\"kivi\")\n",
    "fruitslist.remove(\"apple\")\n",
    "\n",
    "print(fruitslist)"
   ]
  },
  {
   "cell_type": "code",
   "execution_count": 27,
   "id": "6662c1fa-d3fc-4cb6-b3c4-7d1e01c0fdd7",
   "metadata": {},
   "outputs": [
    {
     "name": "stdout",
     "output_type": "stream",
     "text": [
      "[1, 2, 3, 4, 'hello', 5, 6, 7, 8, 9, 8, 6, 5, 43, 232355]\n"
     ]
    }
   ],
   "source": [
    "x=[1,2,3,4,\"hi\",\"hello\",5,6,7,8]\n",
    "y=[9,8,6,5,43,232355]\n",
    "x.extend(y)\n",
    "x.remove(\"hi\")\n",
    "        \n",
    "print(x)"
   ]
  },
  {
   "cell_type": "code",
   "execution_count": 29,
   "id": "0d9665a8-414e-4435-bf3d-f4b16a50fffc",
   "metadata": {},
   "outputs": [
    {
     "name": "stdout",
     "output_type": "stream",
     "text": [
      "[1, 2, 4, 'hi', 'hello', 5, 6, 7, 8, 9, 8, 6, 5, 43, 232355]\n"
     ]
    }
   ],
   "source": [
    "x=[1,2,3,4,\"hi\",\"hello\",5,6,7,8]\n",
    "y=[9,8,6,5,43,232355]\n",
    "x.extend(y)\n",
    "x.pop(2)\n",
    "\n",
    "print(x)"
   ]
  },
  {
   "cell_type": "code",
   "execution_count": 36,
   "id": "495e0159-8626-4d16-8ff8-a7ed8d873266",
   "metadata": {},
   "outputs": [
    {
     "name": "stdout",
     "output_type": "stream",
     "text": [
      "['suzuki']\n",
      "['suzuki', 'mahindra']\n"
     ]
    }
   ],
   "source": [
    "z=[\"tesla\",\"honda\",\"suzuki\",\"tata\",\"mahindra\"]\n",
    "newlist=[]\n",
    "for x in z:\n",
    "    if \"i\" in x:\n",
    "        newlist.append(x)\n",
    "        print(newlist)\n",
    "        \n"
   ]
  },
  {
   "cell_type": "code",
   "execution_count": 43,
   "id": "04d86f29-1442-466a-8f5d-8b7fbf3c8eef",
   "metadata": {},
   "outputs": [
    {
     "name": "stdout",
     "output_type": "stream",
     "text": [
      "['tesla', 'honda', 'tata', 'mahindra']\n"
     ]
    }
   ],
   "source": [
    "car=[\"tesla\",\"honda\",\"suzuki\",\"tata\",\"mahindra\"]\n",
    "newlist=[ x for x in car if \"a\" in x]\n",
    "print(newlist)"
   ]
  },
  {
   "cell_type": "code",
   "execution_count": null,
   "id": "88dd5344-21d4-4b66-be6c-b33764fa06a4",
   "metadata": {},
   "outputs": [],
   "source": []
  },
  {
   "cell_type": "code",
   "execution_count": null,
   "id": "8a819e97-c223-443a-a0dd-1595a5381319",
   "metadata": {},
   "outputs": [],
   "source": []
  }
 ],
 "metadata": {
  "kernelspec": {
   "display_name": "Python 3 (ipykernel)",
   "language": "python",
   "name": "python3"
  },
  "language_info": {
   "codemirror_mode": {
    "name": "ipython",
    "version": 3
   },
   "file_extension": ".py",
   "mimetype": "text/x-python",
   "name": "python",
   "nbconvert_exporter": "python",
   "pygments_lexer": "ipython3",
   "version": "3.12.4"
  }
 },
 "nbformat": 4,
 "nbformat_minor": 5
}
