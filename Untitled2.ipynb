{
 "cells": [
  {
   "cell_type": "code",
   "execution_count": 5,
   "id": "24e420ac-fc8c-44a5-b14e-724bff5ababf",
   "metadata": {},
   "outputs": [
    {
     "name": "stdout",
     "output_type": "stream",
     "text": [
      "['car', 'bus']\n"
     ]
    }
   ],
   "source": [
    "thislist=['car','bus','lorry','tempo','jeep']\n",
    "print(thislist[0:2])"
   ]
  },
  {
   "cell_type": "code",
   "execution_count": 9,
   "id": "c8099af6-8d07-44d7-84db-bb11eea99c7b",
   "metadata": {},
   "outputs": [
    {
     "name": "stdout",
     "output_type": "stream",
     "text": [
      "['car', 'SUV', 'lorry', 'tempo', 'jeep']\n"
     ]
    }
   ],
   "source": [
    "thislist=['car','bus','lorry','tempo','jeep']\n",
    "thislist[1]='SUV'\n",
    "print(thislist)\n"
   ]
  },
  {
   "cell_type": "code",
   "execution_count": 13,
   "id": "d424715f-2af4-4626-92b2-0d7cfcd250c7",
   "metadata": {},
   "outputs": [
    {
     "ename": "SyntaxError",
     "evalue": "invalid syntax (3761258967.py, line 2)",
     "output_type": "error",
     "traceback": [
      "\u001b[1;36m  Cell \u001b[1;32mIn[13], line 2\u001b[1;36m\u001b[0m\n\u001b[1;33m    thislist insert=[5,'bus']\u001b[0m\n\u001b[1;37m             ^\u001b[0m\n\u001b[1;31mSyntaxError\u001b[0m\u001b[1;31m:\u001b[0m invalid syntax\n"
     ]
    }
   ],
   "source": [
    "thislist=['car','bus','lorry','tempo','jeep']\n",
    "thislist insert=[5,'bus']\n",
    "print(thislist)"
   ]
  },
  {
   "cell_type": "code",
   "execution_count": 19,
   "id": "5b43481b-5399-4dd2-a3df-a5e371446481",
   "metadata": {},
   "outputs": [
    {
     "name": "stdout",
     "output_type": "stream",
     "text": [
      "['car', 'bike', 'loona', 'scooter']\n"
     ]
    }
   ],
   "source": [
    "thislist=['car','bike','scooter']\n",
    "thislist.insert(2,'loona')\n",
    "print(thislist)"
   ]
  },
  {
   "cell_type": "code",
   "execution_count": 21,
   "id": "d66c9860-e4c9-47c6-8933-3ba94bb5f402",
   "metadata": {},
   "outputs": [
    {
     "name": "stdout",
     "output_type": "stream",
     "text": [
      "['scorpio', 'innova', 'grand vitara', 'land curser']\n"
     ]
    }
   ],
   "source": [
    "thislist=['scorpio','innova','grand vitara']\n",
    "thislist.append('land curser')\n",
    "print(thislist)"
   ]
  },
  {
   "cell_type": "code",
   "execution_count": null,
   "id": "443823f1-f80a-42eb-a2e9-cfb923a85f80",
   "metadata": {},
   "outputs": [],
   "source": []
  }
 ],
 "metadata": {
  "kernelspec": {
   "display_name": "Python 3 (ipykernel)",
   "language": "python",
   "name": "python3"
  },
  "language_info": {
   "codemirror_mode": {
    "name": "ipython",
    "version": 3
   },
   "file_extension": ".py",
   "mimetype": "text/x-python",
   "name": "python",
   "nbconvert_exporter": "python",
   "pygments_lexer": "ipython3",
   "version": "3.12.4"
  }
 },
 "nbformat": 4,
 "nbformat_minor": 5
}
