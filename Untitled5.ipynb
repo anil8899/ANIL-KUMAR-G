{
 "cells": [
  {
   "cell_type": "code",
   "execution_count": 1,
   "id": "b19a2384-4b93-4d9d-ae48-048ade77c97a",
   "metadata": {},
   "outputs": [
    {
     "name": "stdin",
     "output_type": "stream",
     "text": [
      "Enter first number:  2\n",
      "Enter second number:  3\n"
     ]
    },
    {
     "name": "stdout",
     "output_type": "stream",
     "text": [
      "Addition: 5.0, Subtraction: -1.0, Multiplication: 6.0, Division: 0.6666666666666666\n"
     ]
    }
   ],
   "source": [
    "a = float(input(\"Enter first number: \"))\n",
    "b = float(input(\"Enter second number: \"))\n",
    "\n",
    "addition = a + b\n",
    "subtraction = a - b\n",
    "multiplication = a * b\n",
    "division = a / b if b != 0 else \"undefined\"\n",
    "\n",
    "print(f\"Addition: {addition}, Subtraction: {subtraction}, Multiplication: {multiplication}, Division: {division}\")\n"
   ]
  },
  {
   "cell_type": "code",
   "execution_count": 6,
   "id": "94bd126e-b3fc-45b2-8029-059c66f5cd40",
   "metadata": {},
   "outputs": [
    {
     "name": "stdin",
     "output_type": "stream",
     "text": [
      "enter the name anil\n",
      "enter age 25\n"
     ]
    }
   ],
   "source": [
    "a=input(\"enter the name\")\n",
    "b=float(input(\"enter age\"))"
   ]
  },
  {
   "cell_type": "code",
   "execution_count": 3,
   "id": "b93fc5c4-eb36-4710-8acd-c5cf8a1d90ba",
   "metadata": {},
   "outputs": [
    {
     "ename": "SyntaxError",
     "evalue": "Missing parentheses in call to 'print'. Did you mean print(...)? (3308612327.py, line 1)",
     "output_type": "error",
     "traceback": [
      "\u001b[1;36m  Cell \u001b[1;32mIn[3], line 1\u001b[1;36m\u001b[0m\n\u001b[1;33m    print input(\"enter the name\")\u001b[0m\n\u001b[1;37m    ^\u001b[0m\n\u001b[1;31mSyntaxError\u001b[0m\u001b[1;31m:\u001b[0m Missing parentheses in call to 'print'. Did you mean print(...)?\n"
     ]
    }
   ],
   "source": [
    "print input(\"enter the name\")\n"
   ]
  },
  {
   "cell_type": "code",
   "execution_count": null,
   "id": "4b705b2f-3322-4e86-a896-104685422d1a",
   "metadata": {},
   "outputs": [],
   "source": []
  }
 ],
 "metadata": {
  "kernelspec": {
   "display_name": "Python 3 (ipykernel)",
   "language": "python",
   "name": "python3"
  },
  "language_info": {
   "codemirror_mode": {
    "name": "ipython",
    "version": 3
   },
   "file_extension": ".py",
   "mimetype": "text/x-python",
   "name": "python",
   "nbconvert_exporter": "python",
   "pygments_lexer": "ipython3",
   "version": "3.12.4"
  }
 },
 "nbformat": 4,
 "nbformat_minor": 5
}
