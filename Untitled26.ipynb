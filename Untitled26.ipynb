{
 "cells": [
  {
   "cell_type": "code",
   "execution_count": 11,
   "id": "50e7869f-681f-409d-84ac-3c409450450f",
   "metadata": {},
   "outputs": [
    {
     "ename": "IndentationError",
     "evalue": "expected an indented block after 'for' statement on line 6 (4209074625.py, line 7)",
     "output_type": "error",
     "traceback": [
      "\u001b[1;36m  Cell \u001b[1;32mIn[11], line 7\u001b[1;36m\u001b[0m\n\u001b[1;33m    if num > second_largest_number:\u001b[0m\n\u001b[1;37m    ^\u001b[0m\n\u001b[1;31mIndentationError\u001b[0m\u001b[1;31m:\u001b[0m expected an indented block after 'for' statement on line 6\n"
     ]
    }
   ],
   "source": [
    "# Find the Second Largest Element in a List \n",
    "def second_largest_number(number):\n",
    "    if not number:\n",
    "        return none\n",
    "        second_largest_number=number[0]\n",
    "        for num in number:\n",
    "        if num > second_largest_number:\n",
    "            second_largest_number = num\n",
    "    return second_largest_number\n",
    "    print(second_largest_number(1,3,5,7,9,11))\n",
    "         \n",
    "\n",
    "    "
   ]
  },
  {
   "cell_type": "code",
   "execution_count": null,
   "id": "d2b6ea24-0d5e-4b1b-b1ce-c0c7283b6029",
   "metadata": {},
   "outputs": [],
   "source": []
  }
 ],
 "metadata": {
  "kernelspec": {
   "display_name": "Python 3 (ipykernel)",
   "language": "python",
   "name": "python3"
  },
  "language_info": {
   "codemirror_mode": {
    "name": "ipython",
    "version": 3
   },
   "file_extension": ".py",
   "mimetype": "text/x-python",
   "name": "python",
   "nbconvert_exporter": "python",
   "pygments_lexer": "ipython3",
   "version": "3.12.4"
  }
 },
 "nbformat": 4,
 "nbformat_minor": 5
}
