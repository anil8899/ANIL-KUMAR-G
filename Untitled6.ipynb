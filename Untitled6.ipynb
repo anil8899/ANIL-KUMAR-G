{
 "cells": [
  {
   "cell_type": "code",
   "execution_count": null,
   "id": "468caa92-d804-4aba-bd1b-52b86ad030f8",
   "metadata": {},
   "outputs": [],
   "source": []
  },
  {
   "cell_type": "code",
   "execution_count": 15,
   "id": "ac676523-187c-4086-86a4-c2ea49ca6331",
   "metadata": {},
   "outputs": [
    {
     "name": "stdout",
     "output_type": "stream",
     "text": [
      "function with the split \n"
     ]
    }
   ],
   "source": [
    "\n",
    "def longest_word(words):\n",
    "    return max(words, key=len)\n",
    "\n",
    "\n",
    "print(longest_word([\"his\", \"approach \",\"uses the max()\", \"function with the split \"])) \n",
    "\n"
   ]
  },
  {
   "cell_type": "code",
   "execution_count": 16,
   "id": "27841a7a-ae58-41e9-94f5-b376376607c2",
   "metadata": {},
   "outputs": [
    {
     "name": "stdout",
     "output_type": "stream",
     "text": [
      "encountered\n"
     ]
    }
   ],
   "source": [
    "# Python3 program for the above approach\n",
    " \n",
    "# Function to print the longest\n",
    "# word in given sentence\n",
    "def largestWord(s):\n",
    " \n",
    "    # Sort the words in increasing\n",
    "    # order of their lengths\n",
    "    s = sorted(s, key = len)\n",
    " \n",
    "    # Print last word\n",
    "    print(s[-1])\n",
    " \n",
    " \n",
    "# Driver Code\n",
    "if __name__ == \"__main__\":\n",
    " \n",
    "    # Given string\n",
    "    s = \"Check if the current character encountered is a space or end of the string is reached\"\n",
    " \n",
    "    # Split the string into words\n",
    "    l = list(s.split(\" \"))\n",
    " \n",
    "    largestWord(l)"
   ]
  },
  {
   "cell_type": "code",
   "execution_count": null,
   "id": "8caf4470-f852-4312-ba8d-888fc66b24aa",
   "metadata": {},
   "outputs": [],
   "source": []
  },
  {
   "cell_type": "code",
   "execution_count": 18,
   "id": "6a8f42b0-7cad-490d-a367-6c34cf5c523e",
   "metadata": {},
   "outputs": [
    {
     "name": "stdout",
     "output_type": "stream",
     "text": [
      "function with the split \n"
     ]
    }
   ],
   "source": [
    "def longest_word(words):\n",
    "    return max(words, key=len)\n",
    "\n",
    "\n",
    "print(longest_word([\"his\", \"approach \",\"uses the max()\", \"function with the split \"])) \n",
    "\n",
    "\n",
    "\n",
    "\n",
    "\n",
    "\n"
   ]
  },
  {
   "cell_type": "code",
   "execution_count": null,
   "id": "45607a41-4db0-470a-a436-b60c12bcb69d",
   "metadata": {},
   "outputs": [],
   "source": []
  }
 ],
 "metadata": {
  "kernelspec": {
   "display_name": "Python 3 (ipykernel)",
   "language": "python",
   "name": "python3"
  },
  "language_info": {
   "codemirror_mode": {
    "name": "ipython",
    "version": 3
   },
   "file_extension": ".py",
   "mimetype": "text/x-python",
   "name": "python",
   "nbconvert_exporter": "python",
   "pygments_lexer": "ipython3",
   "version": "3.12.4"
  }
 },
 "nbformat": 4,
 "nbformat_minor": 5
}
