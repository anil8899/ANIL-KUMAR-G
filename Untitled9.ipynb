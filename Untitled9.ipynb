{
 "cells": [
  {
   "cell_type": "code",
   "execution_count": 1,
   "id": "59f98ebf-1e28-4fdf-ba4e-dd553aa98943",
   "metadata": {},
   "outputs": [
    {
     "name": "stdout",
     "output_type": "stream",
     "text": [
      "deque(['a', 'b', 'c', 'd'])\n",
      "deque(['z', 'a', 'b', 'c', 'd'])\n",
      "deque(['z', 'a', 'b', 'c'])\n",
      "deque(['a', 'b', 'c'])\n"
     ]
    }
   ],
   "source": [
    "from collections import deque\n",
    "\n",
    "# Create a deque with initial elements\n",
    "dq = deque(['a', 'b', 'c'])\n",
    "\n",
    "# Add elements to the right end\n",
    "dq.append('d')\n",
    "print(dq)  # Output: deque(['a', 'b', 'c', 'd'])\n",
    "\n",
    "# Add elements to the left end\n",
    "dq.appendleft('z')\n",
    "print(dq)  # Output: deque(['z', 'a', 'b', 'c', 'd'])\n",
    "\n",
    "# Remove elements from the right end\n",
    "dq.pop()\n",
    "print(dq)  # Output: deque(['z', 'a', 'b', 'c'])\n",
    "\n",
    "# Remove elements from the left end\n",
    "dq.popleft()\n",
    "print(dq)  # Output: deque(['a', 'b', 'c'])\n",
    "\n"
   ]
  },
  {
   "cell_type": "code",
   "execution_count": 2,
   "id": "4156effa-a745-4f26-b4fa-ffd92f54ced4",
   "metadata": {},
   "outputs": [
    {
     "name": "stdout",
     "output_type": "stream",
     "text": [
      "2\n",
      "3\n"
     ]
    }
   ],
   "source": [
    "from collections import namedtuple\n",
    "\n",
    "# Create a namedtuple for a point in 2D space\n",
    "Point = namedtuple('Point', ['x', 'y'])\n",
    "\n",
    "# Instantiate a Point object\n",
    "p = Point(2, 3)\n",
    "\n",
    "# Access fields by name\n",
    "print(p.x)  # Output: 2\n",
    "print(p.y)  # Output: 3\n",
    "\n",
    "# Namedtuples are immutable\n",
    "# p.x = 5  # This would raise an AttributeError\n"
   ]
  },
  {
   "cell_type": "code",
   "execution_count": 3,
   "id": "e45155cd-ff54-4b8a-b373-8818e2ccfaf3",
   "metadata": {},
   "outputs": [
    {
     "name": "stdout",
     "output_type": "stream",
     "text": [
      "1\n",
      "2\n",
      "4\n"
     ]
    }
   ],
   "source": [
    "from collections import ChainMap\n",
    "\n",
    "# Create two dictionaries\n",
    "dict1 = {'a': 1, 'b': 2}\n",
    "dict2 = {'b': 3, 'c': 4}\n",
    "\n",
    "# Combine them using ChainMap\n",
    "combined = ChainMap(dict1, dict2)\n",
    "\n",
    "# Access elements\n",
    "print(combined['a'])  # Output: 1\n",
    "print(combined['b'])  # Output: 2 (from the first dict in the chain)\n",
    "print(combined['c'])  # Output: 4\n",
    "\n"
   ]
  },
  {
   "cell_type": "code",
   "execution_count": 10,
   "id": "e71281d0-77d4-437b-a4f3-ee18826bf2cb",
   "metadata": {},
   "outputs": [
    {
     "ename": "SyntaxError",
     "evalue": "invalid syntax (123955991.py, line 7)",
     "output_type": "error",
     "traceback": [
      "\u001b[1;36m  Cell \u001b[1;32mIn[10], line 7\u001b[1;36m\u001b[0m\n\u001b[1;33m    print(cnt.!most_common(1))  # Output: 3\u001b[0m\n\u001b[1;37m              ^\u001b[0m\n\u001b[1;31mSyntaxError\u001b[0m\u001b[1;31m:\u001b[0m invalid syntax\n"
     ]
    }
   ],
   "source": [
    "from collections import Counter\n",
    "\n",
    "# Create a counter from a list of elements\n",
    "cnt = Counter(['a', 'b', 'c', 'a', 'b', 'b','a','b','c','d'])\n",
    "\n",
    "# Get the count of an element\n",
    "print(cnt.most_common(1))  # Output: 3\n",
    "\n",
    "# Get the most common elements\n",
    "print(cnt.most_common(2))  # Output: [('b', 3), ('a', 2)]\n",
    "\n"
   ]
  },
  {
   "cell_type": "code",
   "execution_count": 11,
   "id": "b808ee1b-db92-45f0-a281-7b09d56323a2",
   "metadata": {},
   "outputs": [
    {
     "name": "stdout",
     "output_type": "stream",
     "text": [
      "apple 1\n",
      "banana 2\n",
      "cherry 3\n"
     ]
    }
   ],
   "source": [
    "from collections import OrderedDict\n",
    "\n",
    "# Create an ordered dictionary\n",
    "od = OrderedDict()\n",
    "od['apple'] = 1\n",
    "od['banana'] = 2\n",
    "od['cherry'] = 3\n",
    "\n",
    "# Print the dictionary\n",
    "for key, value in od.items():\n",
    "    print(key, value)\n",
    "\n",
    "# Output:\n",
    "# apple 1\n",
    "# banana 2\n",
    "# cherry 3\n"
   ]
  },
  {
   "cell_type": "code",
   "execution_count": null,
   "id": "560331cc-82bb-4ea4-96be-d41f51405c4f",
   "metadata": {},
   "outputs": [],
   "source": []
  }
 ],
 "metadata": {
  "kernelspec": {
   "display_name": "Python 3 (ipykernel)",
   "language": "python",
   "name": "python3"
  },
  "language_info": {
   "codemirror_mode": {
    "name": "ipython",
    "version": 3
   },
   "file_extension": ".py",
   "mimetype": "text/x-python",
   "name": "python",
   "nbconvert_exporter": "python",
   "pygments_lexer": "ipython3",
   "version": "3.12.4"
  }
 },
 "nbformat": 4,
 "nbformat_minor": 5
}
