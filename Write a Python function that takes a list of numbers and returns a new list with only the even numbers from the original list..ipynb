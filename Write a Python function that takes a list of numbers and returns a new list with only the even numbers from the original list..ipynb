{
 "cells": [
  {
   "cell_type": "code",
   "execution_count": 1,
   "id": "747b8482-83d8-4b75-90ec-92af4177963e",
   "metadata": {},
   "outputs": [
    {
     "name": "stdout",
     "output_type": "stream",
     "text": [
      "[2, 4, 6, 8, 10]\n"
     ]
    }
   ],
   "source": [
    "# Write a Python function that takes a list of numbers and returns a new list with only the even numbers from the original list.\n",
    "def get_even_numbers(numbers):\n",
    "    return [num for num in numbers if num % 2 == 0]\n",
    "\n",
    "# Example usage\n",
    "original_list = [1, 2, 3, 4, 5, 6, 7, 8, 9, 10]\n",
    "even_numbers = get_even_numbers(original_list)\n",
    "print(even_numbers)"
   ]
  },
  {
   "cell_type": "code",
   "execution_count": 2,
   "id": "c0fc6500-efb8-47d1-a31f-70d777c71fc0",
   "metadata": {},
   "outputs": [
    {
     "name": "stdout",
     "output_type": "stream",
     "text": [
      "29 is a prime number.\n"
     ]
    }
   ],
   "source": [
    "#Write a Python program that checks whether a given number is prime using a for loop and if-else statements\n",
    "\n",
    "def is_prime(number):\n",
    "    if number <= 1:\n",
    "        return False\n",
    "    for i in range(2, int(number ** 0.5) + 1):\n",
    "        if number % i == 0:\n",
    "            return False\n",
    "    return True\n",
    "\n",
    "# Example usage\n",
    "num = 29\n",
    "\n",
    "if is_prime(num):\n",
    "    print(f\"{num} is a prime number.\")\n",
    "else:\n",
    "    print(f\"{num} is not a prime number.\")"
   ]
  },
  {
   "cell_type": "code",
   "execution_count": 4,
   "id": "112c7931-8dd3-4615-bcb6-7b1f09ed5919",
   "metadata": {},
   "outputs": [
    {
     "name": "stdout",
     "output_type": "stream",
     "text": [
      "{11: 'a', 22: 'b', 33: 'c'}\n"
     ]
    }
   ],
   "source": [
    "#Create a Python function that takes a dictionary as an argument and returns a new dictionary with keys and values swapped.\n",
    "\n",
    "def swap_keys_values(d):\n",
    "    return {value: key for key, value in d.items()}\n",
    "\n",
    "# Example usage\n",
    "original_dict = {'a': 11, 'b': 22, 'c': 33}\n",
    "swapped_dict = swap_keys_values(original_dict)\n",
    "print(swapped_dict)  # Output: {1: 'a', 2: 'b', 3: 'c'}\n",
    "\n",
    "\n",
    "\n",
    "\n",
    "\n"
   ]
  },
  {
   "cell_type": "code",
   "execution_count": 10,
   "id": "7496e4e5-b94a-496e-a8a9-df69f11cfd42",
   "metadata": {},
   "outputs": [
    {
     "name": "stdout",
     "output_type": "stream",
     "text": [
      "The factorial of 30 is 265252859812191058636308480000000.\n"
     ]
    }
   ],
   "source": [
    "#Write a Python program using a while loop to calculate the factorial of a given number.\n",
    "\n",
    "def factorial(n):\n",
    "    result = 1\n",
    "    while n > 1:\n",
    "        result *= n\n",
    "        n -= 1\n",
    "    return result\n",
    "\n",
    "# Example usage\n",
    "number = 30\n",
    "fact = factorial(number)\n",
    "print(f\"The factorial of {number} is {fact}.\")"
   ]
  },
  {
   "cell_type": "code",
   "execution_count": 12,
   "id": "a2f8a3a9-90fc-4068-b3e9-365b9705b4cf",
   "metadata": {},
   "outputs": [
    {
     "name": "stdout",
     "output_type": "stream",
     "text": [
      "{0: 2, 2: 2, 3: 3, 4: 4}\n"
     ]
    }
   ],
   "source": [
    "#Write a Python function that takes a list of integers and returns a dictionary with the elements as keys and their frequency counts as values.\n",
    "\n",
    "def count_frequencies(numbers):\n",
    "    frequency_dict = {}\n",
    "    for num in numbers:\n",
    "        if num in frequency_dict:\n",
    "            frequency_dict[num] += 1\n",
    "        else:\n",
    "            frequency_dict[num] = 1\n",
    "    return frequency_dict\n",
    "\n",
    "# Example usage\n",
    "numbers_list = [0,0, 2, 2, 3, 3, 3, 4, 4, 4, 4]\n",
    "frequency_counts = count_frequencies(numbers_list)\n",
    "print(frequency_counts)  # Output: {1: 1, 2: 2, 3: 3, 4: 4}"
   ]
  },
  {
   "cell_type": "code",
   "execution_count": 13,
   "id": "0dfad3d0-6fd3-4174-802a-fa3d7c89c883",
   "metadata": {},
   "outputs": [
    {
     "name": "stdout",
     "output_type": "stream",
     "text": [
      "50 is not divisible by both 3 and 5.\n",
      "22 is not divisible by both 3 and 5.\n",
      "75 is divisible by both 3 and 5.\n",
      "60 is divisible by both 3 and 5.\n",
      "45 is divisible by both 3 and 5.\n",
      "30 is divisible by both 3 and 5.\n",
      "15 is divisible by both 3 and 5.\n"
     ]
    }
   ],
   "source": [
    "#Create a Python program that iterates over a set of numbers and prints the numbers that are divisible by both 3 and 5. Use a for loop and if-else statements.\n",
    "\n",
    "def print_divisible_by_3_and_5(numbers):\n",
    "    for num in numbers:\n",
    "        if num % 3 == 0 and num % 5 == 0:\n",
    "            print(f\"{num} is divisible by both 3 and 5.\")\n",
    "        else:\n",
    "            print(f\"{num} is not divisible by both 3 and 5.\")\n",
    "\n",
    "# Example usage\n",
    "number_set = {15, 30, 22, 45, 50, 60, 75}\n",
    "print_divisible_by_3_and_5(number_set)\n"
   ]
  },
  {
   "cell_type": "code",
   "execution_count": 14,
   "id": "1d2448ff-5ef0-41ef-8344-a764692015f6",
   "metadata": {},
   "outputs": [
    {
     "name": "stdout",
     "output_type": "stream",
     "text": [
      "['apple', 'avocado', 'apricot']\n"
     ]
    }
   ],
   "source": [
    "#Write a Python function that accepts a list of strings and returns a new list containing only the strings that start with the letter 'a'.\n",
    "\n",
    "def filter_strings_starting_with_a(strings):\n",
    "    return [s for s in strings if s.lower().startswith('a')]\n",
    "\n",
    "# Example usage\n",
    "strings_list = ['apple', 'banana', 'avocado', 'cherry', 'apricot', 'blueberry']\n",
    "filtered_list = filter_strings_starting_with_a(strings_list)\n",
    "print(filtered_list)  \n",
    "\n",
    "\n",
    "\n",
    "\n"
   ]
  },
  {
   "cell_type": "code",
   "execution_count": 16,
   "id": "a31c6917-22f7-47e4-b02e-4dc28b01ddab",
   "metadata": {},
   "outputs": [
    {
     "name": "stdout",
     "output_type": "stream",
     "text": [
      "[1, 16, 25, 256, 625]\n"
     ]
    }
   ],
   "source": [
    "#Write a Python program that iterates through a list of numbers and appends the square of each number to a new list using a for loop and if statement to check if the number is positive.\n",
    "\n",
    "\n",
    "def square_of_positives(numbers):\n",
    "    squared_numbers = []\n",
    "    for num in numbers:\n",
    "        if num > 0:\n",
    "            squared_numbers.append(num ** 2)\n",
    "    return squared_numbers\n",
    "\n",
    "# Example usage\n",
    "numbers_list = [1, -3, 4, 0, -2, 5,-9,16,25]\n",
    "squared_list = square_of_positives(numbers_list)\n",
    "print(squared_list) \n",
    "\n"
   ]
  },
  {
   "cell_type": "code",
   "execution_count": null,
   "id": "5c4f8d96-e3fe-464c-b979-2e850687fb6e",
   "metadata": {},
   "outputs": [],
   "source": []
  }
 ],
 "metadata": {
  "kernelspec": {
   "display_name": "Python 3 (ipykernel)",
   "language": "python",
   "name": "python3"
  },
  "language_info": {
   "codemirror_mode": {
    "name": "ipython",
    "version": 3
   },
   "file_extension": ".py",
   "mimetype": "text/x-python",
   "name": "python",
   "nbconvert_exporter": "python",
   "pygments_lexer": "ipython3",
   "version": "3.12.4"
  }
 },
 "nbformat": 4,
 "nbformat_minor": 5
}
