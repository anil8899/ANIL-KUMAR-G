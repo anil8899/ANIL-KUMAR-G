{
 "cells": [
  {
   "cell_type": "code",
   "execution_count": 3,
   "id": "88bf453a-961f-486a-b131-b07140749136",
   "metadata": {},
   "outputs": [],
   "source": [
    "import numpy as np\n",
    "import matplotlib.pyplot as plt\n",
    "import pandas as pd"
   ]
  },
  {
   "cell_type": "code",
   "execution_count": 4,
   "id": "1be7e1a1-6e62-4cf9-8b30-89e6fa4efaaa",
   "metadata": {},
   "outputs": [],
   "source": [
    "dataset = pd.read_csv('E://Data_Science_AI_Master_Program//Data Science//customer_churn_dataset_new.csv')\n",
    "X=dataset.iloc[:,:-1].values\n",
    "Y=dataset.iloc[:,3].values"
   ]
  },
  {
   "cell_type": "code",
   "execution_count": 5,
   "id": "369f3152-4c2e-41d3-8a46-6a9ccda0fc41",
   "metadata": {},
   "outputs": [],
   "source": [
    "from sklearn.impute import SimpleImputer\n",
    "imputer = SimpleImputer(missing_values=np.nan, strategy='mean')\n",
    "imputer=imputer.fit(X[:,1:3])\n",
    "X[:,1:3]=imputer.transform(X[:,1:3])"
   ]
  },
  {
   "cell_type": "code",
   "execution_count": 6,
   "id": "5522528b-1ac9-4704-9cd0-d182dfea6fcc",
   "metadata": {},
   "outputs": [],
   "source": [
    "#Getting the Missing Values/Datas in Dependent varaibale\n",
    "from sklearn.impute import SimpleImputer\n",
    "imputer = SimpleImputer(missing_values=np.nan, strategy='mean')\n",
    "imputer=imputer.fit(X[:,1:3])\n",
    "X[:,1:3]=imputer.transform(X[:,1:3])\n",
    "#Categorical Data\n",
    "from sklearn.preprocessing import LabelEncoder ,OneHotEncoder\n",
    "from sklearn.compose import ColumnTransformer\n",
    "labelencoder_X=LabelEncoder()\n",
    "X[:,0]= labelencoder_X.fit_transform(X[:,0])\n",
    "onehotencoder = ColumnTransformer([( \"Country\", OneHotEncoder(), [0])], remainder = 'passthrough')"
   ]
  },
  {
   "cell_type": "code",
   "execution_count": 8,
   "id": "edf23795-1eb4-4abf-9a4f-be8414f332ba",
   "metadata": {},
   "outputs": [
    {
     "name": "stdout",
     "output_type": "stream",
     "text": [
      "        Customer Id  Account Balance  Min Balance  Max Balance  Annual Income  \\\n",
      "0              1000          6471.37      6412.30      6627.08       60177.93   \n",
      "1              1001          8530.49      7028.18     10372.52       70074.33   \n",
      "2              1002         11324.34      6057.07     13275.16      116521.06   \n",
      "3              1003          8055.84      3832.26      8895.83       49277.74   \n",
      "4              1004         11020.54      5591.65     12032.74      159679.98   \n",
      "...             ...              ...          ...          ...            ...   \n",
      "299995       300995          8743.58      8144.06     10609.89       32686.05   \n",
      "299996       300996          7416.78      7009.85      9370.48       99345.36   \n",
      "299997       300997          9155.73      6157.49     10555.90      127258.35   \n",
      "299998       300998          3208.90      2443.24      5469.76       23829.75   \n",
      "299999       300999          9707.26      8467.83     10156.13       83515.67   \n",
      "\n",
      "       Banking Behaviour       Products Account Type  \\\n",
      "0                    Low    Credit Card       Salary   \n",
      "1                   High  Personal Loan       Salary   \n",
      "2                 Medium    Credit Card       Salary   \n",
      "3                 Medium  Personal Loan       Salary   \n",
      "4                   High    Credit Card      Current   \n",
      "...                  ...            ...          ...   \n",
      "299995              High  Business Loan      Current   \n",
      "299996               Low      Home Loan      Current   \n",
      "299997              High  Business Loan      Savings   \n",
      "299998              High  Business Loan      Savings   \n",
      "299999            Medium      Home Loan       Salary   \n",
      "\n",
      "        Low Transaction Frequency  Large Withdrawals or Transfers  ...  \\\n",
      "0                           False                           False  ...   \n",
      "1                           False                           False  ...   \n",
      "2                            True                           False  ...   \n",
      "3                            True                           False  ...   \n",
      "4                            True                           False  ...   \n",
      "...                           ...                             ...  ...   \n",
      "299995                      False                           False  ...   \n",
      "299996                      False                           False  ...   \n",
      "299997                      False                            True  ...   \n",
      "299998                      False                           False  ...   \n",
      "299999                      False                           False  ...   \n",
      "\n",
      "        Transcation Type  Transcation Channel  Average Transaction Amount  \\\n",
      "0                  Debit                  UPI                    6519.690   \n",
      "1                 Credit  Visiting the branch                    8700.350   \n",
      "2                 Credit  Visiting the branch                    9666.115   \n",
      "3                 Credit                  ATM                    6364.045   \n",
      "4                 Credit  Visiting the branch                    8812.195   \n",
      "...                  ...                  ...                         ...   \n",
      "299995            Credit           Netbanking                    9376.975   \n",
      "299996             Debit                  UPI                    8190.165   \n",
      "299997            Credit                  ATM                    8356.695   \n",
      "299998            Credit           Netbanking                    3956.500   \n",
      "299999            Credit  Visiting the branch                    9311.980   \n",
      "\n",
      "        Number of Transactions monthly_emi_deduction Outstanding EMI Left  \\\n",
      "0                            5               1821.98             21863.80   \n",
      "1                           36                  0.00                 0.00   \n",
      "2                           74                  0.00                 0.00   \n",
      "3                           78               5100.23            122405.46   \n",
      "4                            9               2622.32             31467.79   \n",
      "...                        ...                   ...                  ...   \n",
      "299995                      14              15280.78            916846.52   \n",
      "299996                      97              18833.00           4519921.11   \n",
      "299997                      98               9406.99            564419.64   \n",
      "299998                      71              31212.21           1872732.66   \n",
      "299999                      44              17775.80           4266192.21   \n",
      "\n",
      "        EMI Going On    Investments  Credit Card Utilization  Churn  \n",
      "0                Yes  Fixed Deposit                      LOW   True  \n",
      "1                 No            SIP                   MEDIUM   True  \n",
      "2                 No           GOLD                     HIGH   True  \n",
      "3                Yes  Fixed Deposit                      LOW   True  \n",
      "4                Yes            SIP                      LOW   True  \n",
      "...              ...            ...                      ...    ...  \n",
      "299995           Yes           GOLD                   MEDIUM   True  \n",
      "299996           Yes  Fixed Deposit                   MEDIUM  False  \n",
      "299997           Yes  Fixed Deposit                     HIGH   True  \n",
      "299998           Yes            SIP                   MEDIUM   True  \n",
      "299999           Yes           GOLD                      LOW  False  \n",
      "\n",
      "[300000 rows x 24 columns]\n"
     ]
    }
   ],
   "source": [
    "print(dataset)\n"
   ]
  },
  {
   "cell_type": "code",
   "execution_count": 15,
   "id": "91fea994-6fc0-458b-96db-d15b691dc6da",
   "metadata": {},
   "outputs": [
    {
     "ename": "NameError",
     "evalue": "name 'load_dataset' is not defined",
     "output_type": "error",
     "traceback": [
      "\u001b[1;31m---------------------------------------------------------------------------\u001b[0m",
      "\u001b[1;31mNameError\u001b[0m                                 Traceback (most recent call last)",
      "Cell \u001b[1;32mIn[15], line 7\u001b[0m\n\u001b[0;32m      5\u001b[0m \u001b[38;5;28;01mfrom\u001b[39;00m \u001b[38;5;21;01msklearn\u001b[39;00m\u001b[38;5;21;01m.\u001b[39;00m\u001b[38;5;21;01mdatasets\u001b[39;00m \u001b[38;5;28;01mimport\u001b[39;00m load_iris\n\u001b[0;32m      6\u001b[0m \u001b[38;5;66;03m# Load sample data (Iris dataset)\u001b[39;00m\n\u001b[1;32m----> 7\u001b[0m data \u001b[38;5;241m=\u001b[39m load_dataset()\n\u001b[0;32m      8\u001b[0m X, y \u001b[38;5;241m=\u001b[39m data\u001b[38;5;241m.\u001b[39mdata, data\u001b[38;5;241m.\u001b[39mtarget\n\u001b[0;32m      9\u001b[0m \u001b[38;5;66;03m# Split the data into training and testing sets\u001b[39;00m\n",
      "\u001b[1;31mNameError\u001b[0m: name 'load_dataset' is not defined"
     ]
    }
   ],
   "source": [
    "# Import necessary libraries\n",
    "from sklearn.ensemble import RandomForestClassifier\n",
    "from sklearn.model_selection import train_test_split\n",
    "from sklearn.metrics import accuracy_score\n",
    "from sklearn.datasets import load_iris\n",
    "# Load sample data (Iris dataset)\n",
    "data = load_dataset()\n",
    "X, y = data.data, data.target\n",
    "# Split the data into training and testing sets\n",
    "X_train, X_test, y_train, y_test = train_test_split(X, y, test_size=0.3,\n",
    "random_state=42)\n",
    "# Create and train the Random Forest model\n",
    "model = RandomForestClassifier(n_estimators=100, random_state=42)\n",
    "model.fit(X_train, y_train)\n",
    "# Make predictions\n",
    "predictions = model.predict(X_test)\n",
    "# Calculate accuracy\n",
    "accuracy = accuracy_score(y_test, predictions)\n",
    "print(f'Accuracy: {accuracy:.2f}')"
   ]
  },
  {
   "cell_type": "code",
   "execution_count": 1,
   "id": "c292b96e-80a4-41fc-8404-7c315751d91f",
   "metadata": {},
   "outputs": [
    {
     "ename": "NameError",
     "evalue": "name 'dataset' is not defined",
     "output_type": "error",
     "traceback": [
      "\u001b[1;31m---------------------------------------------------------------------------\u001b[0m",
      "\u001b[1;31mNameError\u001b[0m                                 Traceback (most recent call last)",
      "Cell \u001b[1;32mIn[1], line 4\u001b[0m\n\u001b[0;32m      1\u001b[0m \u001b[38;5;28;01mfrom\u001b[39;00m \u001b[38;5;21;01msklearn\u001b[39;00m\u001b[38;5;21;01m.\u001b[39;00m\u001b[38;5;21;01mpreprocessing\u001b[39;00m \u001b[38;5;28;01mimport\u001b[39;00m LabelEncoder, StandardScaler\n\u001b[0;32m      3\u001b[0m \u001b[38;5;66;03m# Drop unnecessary columns\u001b[39;00m\n\u001b[1;32m----> 4\u001b[0m data_cleaned \u001b[38;5;241m=\u001b[39m dataset\u001b[38;5;241m.\u001b[39mdrop(columns\u001b[38;5;241m=\u001b[39m[\u001b[38;5;124m\"\u001b[39m\u001b[38;5;124mCustomer Id\u001b[39m\u001b[38;5;124m\"\u001b[39m])\n\u001b[0;32m      6\u001b[0m \u001b[38;5;66;03m# Encode categorical columns using LabelEncoder\u001b[39;00m\n\u001b[0;32m      7\u001b[0m categorical_columns \u001b[38;5;241m=\u001b[39m data_cleaned\u001b[38;5;241m.\u001b[39mselect_dtypes(include\u001b[38;5;241m=\u001b[39m\u001b[38;5;124m'\u001b[39m\u001b[38;5;124mobject\u001b[39m\u001b[38;5;124m'\u001b[39m)\u001b[38;5;241m.\u001b[39mcolumns\n",
      "\u001b[1;31mNameError\u001b[0m: name 'dataset' is not defined"
     ]
    }
   ],
   "source": [
    "from sklearn.preprocessing import LabelEncoder, StandardScaler\n",
    "\n",
    "# Drop unnecessary columns\n",
    "data_cleaned = dataset.drop(columns=[\"Customer Id\"])\n",
    "\n",
    "# Encode categorical columns using LabelEncoder\n",
    "categorical_columns = data_cleaned.select_dtypes(include='object').columns\n",
    "label_encoders = {col: LabelEncoder() for col in categorical_columns}\n",
    "\n",
    "for col in categorical_columns:\n",
    "    data_cleaned[col] = label_encoders[col].fit_transform(data_cleaned[col])\n",
    "\n",
    "# Scale numerical columns\n",
    "numerical_columns = data_cleaned.select_dtypes(include=['float64', 'int64']).columns\n",
    "scaler = StandardScaler()\n",
    "data_cleaned[numerical_columns] = scaler.fit_transform(data_cleaned[numerical_columns])\n",
    "\n",
    "# Confirm the dataset is ready\n",
    "data_cleaned.head()\n"
   ]
  },
  {
   "cell_type": "code",
   "execution_count": 11,
   "id": "5616b419-1469-4122-b29b-d54502156532",
   "metadata": {},
   "outputs": [
    {
     "ename": "NameError",
     "evalue": "name 'data_new' is not defined",
     "output_type": "error",
     "traceback": [
      "\u001b[1;31m---------------------------------------------------------------------------\u001b[0m",
      "\u001b[1;31mNameError\u001b[0m                                 Traceback (most recent call last)",
      "Cell \u001b[1;32mIn[11], line 4\u001b[0m\n\u001b[0;32m      1\u001b[0m \u001b[38;5;28;01mfrom\u001b[39;00m \u001b[38;5;21;01msklearn\u001b[39;00m\u001b[38;5;21;01m.\u001b[39;00m\u001b[38;5;21;01mpreprocessing\u001b[39;00m \u001b[38;5;28;01mimport\u001b[39;00m LabelEncoder, StandardScaler\n\u001b[0;32m      3\u001b[0m \u001b[38;5;66;03m# Drop unnecessary columns\u001b[39;00m\n\u001b[1;32m----> 4\u001b[0m data_cleaned \u001b[38;5;241m=\u001b[39m data_new\u001b[38;5;241m.\u001b[39mdrop(columns\u001b[38;5;241m=\u001b[39m[\u001b[38;5;124m\"\u001b[39m\u001b[38;5;124mCustomer Id\u001b[39m\u001b[38;5;124m\"\u001b[39m])\n\u001b[0;32m      6\u001b[0m \u001b[38;5;66;03m# Encode categorical columns using LabelEncoder\u001b[39;00m\n\u001b[0;32m      7\u001b[0m categorical_columns \u001b[38;5;241m=\u001b[39m data_cleaned\u001b[38;5;241m.\u001b[39mselect_dtypes(include\u001b[38;5;241m=\u001b[39m\u001b[38;5;124m'\u001b[39m\u001b[38;5;124mobject\u001b[39m\u001b[38;5;124m'\u001b[39m)\u001b[38;5;241m.\u001b[39mcolumns\n",
      "\u001b[1;31mNameError\u001b[0m: name 'data_new' is not defined"
     ]
    }
   ],
   "source": [
    "from sklearn.preprocessing import LabelEncoder, StandardScaler\n",
    "\n",
    "# Drop unnecessary columns\n",
    "data_cleaned = data_new.drop(columns=[\"Customer Id\"])\n",
    "\n",
    "# Encode categorical columns using LabelEncoder\n",
    "categorical_columns = data_cleaned.select_dtypes(include='object').columns\n",
    "label_encoders = {col: LabelEncoder() for col in categorical_columns}\n",
    "\n",
    "for col in categorical_columns:\n",
    "    data_cleaned[col] = label_encoders[col].fit_transform(data_cleaned[col])\n",
    "\n",
    "# Scale numerical columns\n",
    "numerical_columns = data_cleaned.select_dtypes(include=['float64', 'int64']).columns\n",
    "scaler = StandardScaler()\n",
    "data_cleaned[numerical_columns] = scaler.fit_transform(data_cleaned[numerical_columns])\n",
    "\n",
    "# Confirm the dataset is ready\n",
    "data_cleaned.head()\n"
   ]
  },
  {
   "cell_type": "code",
   "execution_count": 2,
   "id": "49a53883-8aea-4fb1-ab4d-4defae8510ef",
   "metadata": {},
   "outputs": [
    {
     "ename": "NameError",
     "evalue": "name 'customer_churn_dataset_new' is not defined",
     "output_type": "error",
     "traceback": [
      "\u001b[1;31m---------------------------------------------------------------------------\u001b[0m",
      "\u001b[1;31mNameError\u001b[0m                                 Traceback (most recent call last)",
      "Cell \u001b[1;32mIn[2], line 1\u001b[0m\n\u001b[1;32m----> 1\u001b[0m data_cleaned \u001b[38;5;241m=\u001b[39m customer_churn_dataset_new\u001b[38;5;241m.\u001b[39mdrop(columns\u001b[38;5;241m=\u001b[39m[\u001b[38;5;124m\"\u001b[39m\u001b[38;5;124mCustomer Id\u001b[39m\u001b[38;5;124m\"\u001b[39m])\n",
      "\u001b[1;31mNameError\u001b[0m: name 'customer_churn_dataset_new' is not defined"
     ]
    }
   ],
   "source": [
    "data_cleaned = customer_churn_dataset_new.drop(columns=[\"Customer Id\"])"
   ]
  },
  {
   "cell_type": "code",
   "execution_count": null,
   "id": "f581ccdb-f12f-487b-9244-72e9161e9e58",
   "metadata": {},
   "outputs": [],
   "source": []
  }
 ],
 "metadata": {
  "kernelspec": {
   "display_name": "Python 3 (ipykernel)",
   "language": "python",
   "name": "python3"
  },
  "language_info": {
   "codemirror_mode": {
    "name": "ipython",
    "version": 3
   },
   "file_extension": ".py",
   "mimetype": "text/x-python",
   "name": "python",
   "nbconvert_exporter": "python",
   "pygments_lexer": "ipython3",
   "version": "3.12.4"
  }
 },
 "nbformat": 4,
 "nbformat_minor": 5
}
