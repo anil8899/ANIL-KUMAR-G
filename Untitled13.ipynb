{
 "cells": [
  {
   "cell_type": "code",
   "execution_count": null,
   "id": "4977e57a-5938-4b6a-8b64-24a2aa8aaff7",
   "metadata": {},
   "outputs": [],
   "source": [
    "import mysql.connector\n",
    "import xlrd\n",
    "\n",
    "# Establish a database connection\n",
    "connection = mysql.connector.connect(\n",
    "    host='localhost',\n",
    "    database='studentmanagement',\n",
    "    user='root',\n",
    "    password='root'\n",
    ")\n",
    "\n",
    "# Create a cursor object\n",
    "cursor = connection.cursor()\n",
    "\n",
    "# SQL query to insert data\n",
    "sql_insert = \"INSERT INTO Courses\n",
    "(course_id INT PRIMARY KEY AUTO_INCREMENT,\n",
    "course_name VARCHAR(100) NOT NULL,\n",
    "course_description TEXT,\n",
    "credit_hours INT NOT NULL) VALUES (%s, %s, %s,%s)\"\n",
    "values = (1, 'Alice', 50000)\n",
    "\n",
    "# Execute the query and commit the transaction\n",
    "cursor.execute(sql_insert, values)\n",
    "connection.commit()\n",
    "\n",
    "print(\"Record inserted successfully.\")\n",
    "\n",
    "# Close the connection\n",
    "cursor.close()\n",
    "connection.close()\n"
   ]
  }
 ],
 "metadata": {
  "kernelspec": {
   "display_name": "Python 3 (ipykernel)",
   "language": "python",
   "name": "python3"
  },
  "language_info": {
   "codemirror_mode": {
    "name": "ipython",
    "version": 3
   },
   "file_extension": ".py",
   "mimetype": "text/x-python",
   "name": "python",
   "nbconvert_exporter": "python",
   "pygments_lexer": "ipython3",
   "version": "3.12.4"
  }
 },
 "nbformat": 4,
 "nbformat_minor": 5
}
