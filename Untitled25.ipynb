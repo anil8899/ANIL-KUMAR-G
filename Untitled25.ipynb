{
 "cells": [
  {
   "cell_type": "code",
   "execution_count": 6,
   "id": "57c6e7f3-bd09-48bf-b167-890a0d3e8364",
   "metadata": {},
   "outputs": [
    {
     "ename": "IndentationError",
     "evalue": "unindent does not match any outer indentation level (<string>, line 8)",
     "output_type": "error",
     "traceback": [
      "\u001b[1;36m  File \u001b[1;32m<string>:8\u001b[1;36m\u001b[0m\n\u001b[1;33m    elif b>a and b>c:\u001b[0m\n\u001b[1;37m                     ^\u001b[0m\n\u001b[1;31mIndentationError\u001b[0m\u001b[1;31m:\u001b[0m unindent does not match any outer indentation level\n"
     ]
    }
   ],
   "source": [
    "a=625\n",
    "b=625\n",
    "c=625\n",
    "\n",
    "if a>b and a>c:\n",
    "     print(\"a is greater\")\n",
    "\n",
    "   elif b>a and b>c:\n",
    "    print (\"b is greater\")\n",
    "\n",
    "   else c>a and c>b:\n",
    "    print(\"c is greater\")\n",
    "\n",
    "else:\n",
    "    print(\"all a,b,c is same\")\n",
    "\n"
   ]
  },
  {
   "cell_type": "code",
   "execution_count": 3,
   "id": "2d088cff-d053-4c3e-b640-6eec98257135",
   "metadata": {},
   "outputs": [],
   "source": [
    "x='-ni'\n",
    "\n",
    "if type(x)==int:\n",
    "    if x>0:\n",
    "        print(\"positive Integer\")\n",
    "    elif x<0:\n",
    "        print(\"negative Interger\")\n",
    "    else:\n",
    "        print(\"value Zero\")\n",
    "\n",
    "elif type(x)==float:\n",
    "    if x>0.0:\n",
    "        print(\"postive floating Interger\")\n",
    "    elif x<0.0:\n",
    "        print(\"negative floating Interger\")\n",
    "    else:\n",
    "        print(\"value flating zero\")\n",
    "    \n",
    "    "
   ]
  },
  {
   "cell_type": "code",
   "execution_count": null,
   "id": "03c8aad7-0c6b-4738-8604-50b691eee5b2",
   "metadata": {},
   "outputs": [],
   "source": []
  },
  {
   "cell_type": "code",
   "execution_count": null,
   "id": "82389f2d-905f-4b23-b423-7e7a26025769",
   "metadata": {},
   "outputs": [],
   "source": []
  }
 ],
 "metadata": {
  "kernelspec": {
   "display_name": "Python 3 (ipykernel)",
   "language": "python",
   "name": "python3"
  },
  "language_info": {
   "codemirror_mode": {
    "name": "ipython",
    "version": 3
   },
   "file_extension": ".py",
   "mimetype": "text/x-python",
   "name": "python",
   "nbconvert_exporter": "python",
   "pygments_lexer": "ipython3",
   "version": "3.12.4"
  }
 },
 "nbformat": 4,
 "nbformat_minor": 5
}
