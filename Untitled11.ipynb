{
 "cells": [
  {
   "cell_type": "code",
   "execution_count": 1,
   "id": "e9bc8f14-1063-4373-8887-8835e32bd0b8",
   "metadata": {},
   "outputs": [],
   "source": [
    "import mysql.connector as conn"
   ]
  },
  {
   "cell_type": "code",
   "execution_count": 7,
   "id": "ee9d03d5-7998-4e75-9f2d-0710447bc89b",
   "metadata": {},
   "outputs": [],
   "source": [
    "connection=conn.connect(\n",
    "    host=\"localhost\",\n",
    "    user=\"root\",\n",
    "password=\"root\",\n",
    "database=\"datascience\"\n",
    ")"
   ]
  },
  {
   "cell_type": "code",
   "execution_count": 8,
   "id": "e1b57f2e-6afa-42ac-af1f-16153593368f",
   "metadata": {},
   "outputs": [],
   "source": [
    "cursor=connection.cursor()"
   ]
  },
  {
   "cell_type": "code",
   "execution_count": 17,
   "id": "14f9853b-dd30-4ff4-b0e1-76d621338927",
   "metadata": {},
   "outputs": [],
   "source": [
    "cursor.execute(\"select * from orders\")"
   ]
  },
  {
   "cell_type": "code",
   "execution_count": 10,
   "id": "2e13bf1f-6faa-4d24-b18b-68835cbdcfab",
   "metadata": {},
   "outputs": [],
   "source": [
    "results=cursor.fetchall()"
   ]
  },
  {
   "cell_type": "code",
   "execution_count": 18,
   "id": "4f42d83a-2f76-43df-9115-e1809ec38c6a",
   "metadata": {},
   "outputs": [
    {
     "name": "stdout",
     "output_type": "stream",
     "text": [
      "(200100, 1000, 600, 8012008, 'C00013', 'A003', 'SOD')\n",
      "(200101, 3000, 1000, 7152008, 'C00001', 'A008', 'SOD')\n",
      "(200102, 2000, 300, 5252008, 'C00012', 'A012', 'SOD')\n",
      "(200103, 1500, 700, 5152008, 'C00021', 'A005', 'SOD')\n",
      "(200104, 1500, 500, 3132008, 'C00006', 'A004', 'SOD')\n",
      "(200105, 2500, 500, 7182008, 'C00025', 'A011', 'SOD')\n",
      "(200106, 2500, 700, 4202008, 'C00005', 'A002', 'SOD')\n",
      "(200107, 4500, 900, 8302008, 'C00007', 'A010', 'SOD')\n",
      "(200108, 4000, 600, 2152008, 'C00008', 'A004', 'SOD')\n",
      "(200109, 3500, 800, 7302008, 'C00011', 'A010', 'SOD')\n",
      "(200110, 3000, 500, 4152008, 'C00019', 'A010', 'SOD')\n",
      "(200111, 1000, 300, 7102008, 'C00020', 'A008', 'SOD')\n",
      "(200112, 2000, 400, 5302008, 'C00016', 'A007', 'SOD')\n",
      "(200113, 4000, 600, 6102008, 'C00022', 'A002', 'SOD')\n",
      "(200114, 3500, 2000, 8152008, 'C00002', 'A008', 'SOD')\n",
      "(200116, 500, 100, 7132008, 'C00010', 'A009', 'SOD')\n",
      "(200117, 800, 200, 10202008, 'C00014', 'A001', 'SOD')\n",
      "(200118, 500, 100, 7022008, 'C00023', 'A006', 'SOD')\n",
      "(200119, 4000, 700, 9162008, 'C00007', 'A010', 'SOD')\n",
      "(200120, 500, 100, 7202008, 'C00009', 'A002', 'SOD')\n",
      "(200121, 1500, 600, 9232008, 'C00008', 'A004', 'SOD')\n",
      "(200122, 2500, 400, 9162008, 'C00003', 'A004', 'SOD')\n",
      "(200123, 500, 100, 9162008, 'C00022', 'A002', 'SOD')\n",
      "(200124, 500, 100, 6202008, 'C00017', 'A007', 'SOD')\n",
      "(200125, 2000, 600, 10102008, 'C00018', 'A005', 'SOD')\n",
      "(200126, 500, 100, 6242008, 'C00022', 'A002', 'SOD')\n",
      "(200127, 2500, 400, 7202008, 'C00015', 'A003', 'SOD')\n",
      "(200128, 3500, 1500, 7202008, 'C00009', 'A002', 'SOD')\n",
      "(200129, 2500, 500, 7202008, 'C00024', 'A006', 'SOD')\n",
      "(200130, 2500, 400, 7302008, 'C00025', 'A011', 'SOD')\n",
      "(200131, 900, 150, 8262008, 'C00012', 'A012', 'SOD')\n",
      "(200133, 1200, 400, 6292008, 'C00009', 'A002', 'SOD')\n",
      "(200134, 4200, 1800, 9252008, 'C00004', 'A005', 'SOD')\n",
      "(200135, 2000, 800, 9162008, 'C00007', 'A010', 'SOD')\n"
     ]
    }
   ],
   "source": [
    "results=cursor.fetchall()\n",
    "for row in results:\n",
    "    print(row)"
   ]
  },
  {
   "cell_type": "code",
   "execution_count": 25,
   "id": "25a64a75-d5aa-4317-8cbd-c9d6509cad43",
   "metadata": {},
   "outputs": [
    {
     "name": "stdout",
     "output_type": "stream",
     "text": [
      "('Ramanathan', Decimal('18000.00'))\n",
      "('Holmes', Decimal('15000.00'))\n",
      "('Venkatpati', Decimal('15000.00'))\n",
      "('Albert', Decimal('14000.00'))\n",
      "('Steven', Decimal('12000.00'))\n",
      "('Yearannaidu', Decimal('12000.00'))\n",
      "('Sundariya', Decimal('11000.00'))\n",
      "('Shilton', Decimal('9000.00'))\n",
      "('Micheal', Decimal('8000.00'))\n",
      "('Sasikant', Decimal('7000.00'))\n",
      "('Ravindran', Decimal('6000.00'))\n",
      "('Jacks', Decimal('5000.00'))\n",
      "('Karolina', Decimal('4000.00'))\n"
     ]
    }
   ],
   "source": [
    "cursor.execute(\"\"\"SELECT c.CUST_NAME, SUM(s.sales_amount) AS total_spent FROM customer c JOIN orders o ON \n",
    "c.CUST_CODE = o.CUST_CODE JOIN sales s ON o.ORD_NUM = s.sales_id GROUP BY c.CUST_NAME ORDER BY \n",
    "total_spent DESC \"\"\")\n",
    "results=cursor.fetchall()\n",
    "for row in results:\n",
    "    print(row)"
   ]
  },
  {
   "cell_type": "code",
   "execution_count": 26,
   "id": "bd6e004d-367c-46a6-8b4f-abe056c18b87",
   "metadata": {},
   "outputs": [],
   "source": [
    "connection.commit()"
   ]
  },
  {
   "cell_type": "code",
   "execution_count": 1,
   "id": "1d52d7d4-f0f2-4807-83e9-20b2e9cf6992",
   "metadata": {},
   "outputs": [],
   "source": [
    "import mysql.connector as conn\n"
   ]
  },
  {
   "cell_type": "code",
   "execution_count": 11,
   "id": "89196538-ef77-4608-a00f-8f9da9446346",
   "metadata": {},
   "outputs": [
    {
     "ename": "SyntaxError",
     "evalue": "invalid syntax. Perhaps you forgot a comma? (682116155.py, line 12)",
     "output_type": "error",
     "traceback": [
      "\u001b[1;36m  Cell \u001b[1;32mIn[11], line 12\u001b[1;36m\u001b[0m\n\u001b[1;33m    cursor.execute (sql_insert = INSERT INTO WalMart_data (Store INT,Dept VARCHAR(100) NOT NULL,DT Date,Weekly_Sales VARCHAR(100),\u001b[0m\n\u001b[1;37m                                 ^\u001b[0m\n\u001b[1;31mSyntaxError\u001b[0m\u001b[1;31m:\u001b[0m invalid syntax. Perhaps you forgot a comma?\n"
     ]
    }
   ],
   "source": [
    "connection=conn.connect(\n",
    "    host=\"localhost\",\n",
    "    user=\"root\",\n",
    "password=\"root\",\n",
    "database=\"machine_learning_data\"\n",
    ")\n",
    "cursor=connection.cursor()\n",
    "\n",
    "\"\"\" create table WalMart_data (Store INT,Dept VARCHAR(100) NOT NULL,DT Date,Weekly_Sales VARCHAR(100),\n",
    "MarkDown1 VARCHAR(100),MarkDown2 VARCHAR(100),MarkDown3 VARCHAR(100),MarkDown4 VARCHAR(100),MarkDown5 VARCHAR(100),IsHoliday VARCHAR(100),Sample_Weight VARCHAR(50));\"\"\"\n",
    "\n",
    "cursor.execute (sql_insert = INSERT INTO WalMart_data (Store INT,Dept VARCHAR(100) NOT NULL,DT Date,Weekly_Sales VARCHAR(100),\n",
    "MarkDown1 VARCHAR(100),MarkDown2 VARCHAR(100),MarkDown3 VARCHAR(100),MarkDown4 VARCHAR(100),MarkDown5 VARCHAR(100),IsHoliday VARCHAR(100),\n",
    "Sample_Weight VARCHAR(50)\n",
    ",values=(1,'dep01','2024-09-12','1000','1000','1900','1200','1800','900','2000','1000');)\n",
    "\n",
    "(sql_insert, values)\n",
    "connection.commit()\n",
    "print(cursor.rowcount, \"record inserted.\")\n",
    "connection.close()\n",
    "\n"
   ]
  },
  {
   "cell_type": "code",
   "execution_count": null,
   "id": "9c4849bb-38f1-4870-b3f8-7ed902ebd68c",
   "metadata": {},
   "outputs": [],
   "source": []
  }
 ],
 "metadata": {
  "kernelspec": {
   "display_name": "Python 3 (ipykernel)",
   "language": "python",
   "name": "python3"
  },
  "language_info": {
   "codemirror_mode": {
    "name": "ipython",
    "version": 3
   },
   "file_extension": ".py",
   "mimetype": "text/x-python",
   "name": "python",
   "nbconvert_exporter": "python",
   "pygments_lexer": "ipython3",
   "version": "3.12.4"
  }
 },
 "nbformat": 4,
 "nbformat_minor": 5
}
