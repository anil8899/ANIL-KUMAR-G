{
 "cells": [
  {
   "cell_type": "code",
   "execution_count": 1,
   "id": "732b1363-ae5b-4ea6-a036-0023e5803b88",
   "metadata": {},
   "outputs": [],
   "source": [
    "def all_unique(lst):\n",
    "    return len(lst) == len(set(lst))\n",
    "\n"
   ]
  },
  {
   "cell_type": "code",
   "execution_count": 2,
   "id": "1a4f7161-da3c-49fd-8617-20b356702f6f",
   "metadata": {},
   "outputs": [
    {
     "name": "stdout",
     "output_type": "stream",
     "text": [
      "True\n"
     ]
    }
   ],
   "source": [
    "print(all_unique([1, 2, 3, 4, 5]))\n"
   ]
  },
  {
   "cell_type": "code",
   "execution_count": 3,
   "id": "75a79f39-3397-43b6-b633-6bff5292736f",
   "metadata": {},
   "outputs": [
    {
     "name": "stdout",
     "output_type": "stream",
     "text": [
      "False\n"
     ]
    }
   ],
   "source": [
    "print(all_unique([1, 2, 3, 4, 5,5,6,7,1]))"
   ]
  },
  {
   "cell_type": "code",
   "execution_count": 4,
   "id": "fddecd70-a38c-4d86-9087-8a8f22c40676",
   "metadata": {},
   "outputs": [],
   "source": [
    "def filter_evens(lst):\n",
    "    return [x for x in lst if x % 2 == 0]\n"
   ]
  },
  {
   "cell_type": "code",
   "execution_count": 5,
   "id": "eb663803-1c74-41e3-87f4-a130e72eee08",
   "metadata": {},
   "outputs": [
    {
     "name": "stdout",
     "output_type": "stream",
     "text": [
      "[2, 4, 6, 8]\n"
     ]
    }
   ],
   "source": [
    "print(filter_evens([1, 2, 3, 4, 5, 6, 7, 8]))  "
   ]
  },
  {
   "cell_type": "code",
   "execution_count": 10,
   "id": "9464b118-4613-40e3-b82c-e02c19f26a1a",
   "metadata": {},
   "outputs": [],
   "source": [
    "def lists_to_dict(keys, values):\n",
    "    return dict(zip(keys, values))\n"
   ]
  },
  {
   "cell_type": "code",
   "execution_count": 12,
   "id": "3071b39a-789e-4053-8919-33544cc40f76",
   "metadata": {},
   "outputs": [
    {
     "name": "stdout",
     "output_type": "stream",
     "text": [
      "{'name': 'Anil', 'age': 36, 'city': 'New York'}\n"
     ]
    }
   ],
   "source": [
    "keys = ['name', 'age', 'city']\n",
    "values = ['Anil', 36, 'New York']\n",
    "print(lists_to_dict(keys, values))  "
   ]
  },
  {
   "cell_type": "code",
   "execution_count": 13,
   "id": "b3d94624-b6f1-4315-aecb-e42b748259ea",
   "metadata": {},
   "outputs": [],
   "source": [
    "def longest_word(words):\n",
    "    return max(words, key=len)\n"
   ]
  },
  {
   "cell_type": "code",
   "execution_count": 16,
   "id": "c794205a-7ad7-422a-9c7f-53060652a3c2",
   "metadata": {},
   "outputs": [
    {
     "name": "stdout",
     "output_type": "stream",
     "text": [
      "blueberry\n"
     ]
    }
   ],
   "source": [
    "print(longest_word([\"apple\", \"banana\", \"cherry\", \"blueberry\"]))  "
   ]
  },
  {
   "cell_type": "code",
   "execution_count": 17,
   "id": "bc5e3bdb-3ef3-4318-b6d1-5f805d8e97ee",
   "metadata": {},
   "outputs": [],
   "source": [
    "def find_pairs(lst, target_sum):\n",
    "    pairs = []\n",
    "    seen = set()\n",
    "    for num in lst:\n",
    "        complement = target_sum - num\n",
    "        if complement in seen:\n",
    "            pairs.append((num, complement))\n",
    "        seen.add(num)\n",
    "    return pairs\n"
   ]
  },
  {
   "cell_type": "code",
   "execution_count": 18,
   "id": "7007a2b9-bf50-4b57-a8ca-0edb838930ae",
   "metadata": {},
   "outputs": [
    {
     "name": "stdout",
     "output_type": "stream",
     "text": [
      "[(3, 4), (5, 2), (4, 3), (9, -2)]\n"
     ]
    }
   ],
   "source": [
    "print(find_pairs([2, 4, 3, 5, 6, -2, 4, 7, 8, 9], 7))  "
   ]
  },
  {
   "cell_type": "code",
   "execution_count": 22,
   "id": "89f6380a-d234-42c6-adf4-dae3f350ee6d",
   "metadata": {},
   "outputs": [],
   "source": [
    "def group_by_first_letter(words):\n",
    "    grouped = {}\n",
    "    for word in words:\n",
    "        key = word[0]\n",
    "        if key not in grouped:\n",
    "            grouped[key] = []\n",
    "        grouped[key].append(word)\n",
    "    return grouped\n",
    "\n"
   ]
  },
  {
   "cell_type": "code",
   "execution_count": 23,
   "id": "46aa388a-1730-4d8c-85df-03f00228d57a",
   "metadata": {},
   "outputs": [
    {
     "name": "stdout",
     "output_type": "stream",
     "text": [
      "{'a': ['apple', 'avocado'], 'b': ['banana', 'blueberry'], 'c': ['cherry']}\n"
     ]
    }
   ],
   "source": [
    "print(group_by_first_letter([\"apple\", \"banana\", \"cherry\", \"avocado\", \"blueberry\"]))  "
   ]
  },
  {
   "cell_type": "code",
   "execution_count": 24,
   "id": "03224f7a-0133-4bdd-9a66-d09032c217d3",
   "metadata": {},
   "outputs": [],
   "source": [
    "def most_frequent(lst):\n",
    "    frequency = {}\n",
    "    for item in lst:\n",
    "        frequency[item] = frequency.get(item, 0) + 1\n",
    "    max_freq = max(frequency.values())\n",
    "    most_freq_items = [key for key, value in frequency.items() if value == max_freq]\n",
    "    return most_freq_items\n",
    "\n"
   ]
  },
  {
   "cell_type": "code",
   "execution_count": 25,
   "id": "fa7b308a-4e5e-4e38-b055-32863057d3d5",
   "metadata": {},
   "outputs": [
    {
     "name": "stdout",
     "output_type": "stream",
     "text": [
      "[4]\n"
     ]
    }
   ],
   "source": [
    "print(most_frequent([1, 2, 2, 3, 3, 3, 4, 4, 4, 4]))"
   ]
  },
  {
   "cell_type": "code",
   "execution_count": 26,
   "id": "93c8e10e-5c25-4ac0-b628-d97bc75dcd71",
   "metadata": {},
   "outputs": [],
   "source": [
    "def flatten(nested_list):\n",
    "    flat_list = []\n",
    "    for sublist in nested_list:\n",
    "        for item in sublist:\n",
    "            flat_list.append(item)\n",
    "    return flat_list\n"
   ]
  },
  {
   "cell_type": "code",
   "execution_count": 27,
   "id": "0dea8066-cb2e-4e98-b754-0d9a3085cf7a",
   "metadata": {},
   "outputs": [
    {
     "name": "stdout",
     "output_type": "stream",
     "text": [
      "[1, 2, 3, 4, 5, 6, 7, 8]\n"
     ]
    }
   ],
   "source": [
    "print(flatten([[1, 2, 3], [4, 5], [6, 7, 8]]))"
   ]
  },
  {
   "cell_type": "code",
   "execution_count": 28,
   "id": "fb0d4ef4-edbb-4787-acad-e6ab29a00480",
   "metadata": {},
   "outputs": [],
   "source": [
    "def generate_squares(n):\n",
    "    return [i ** 2 for i in range(n)]\n",
    "\n"
   ]
  },
  {
   "cell_type": "code",
   "execution_count": 29,
   "id": "aaed478b-dacc-44ef-a284-42c2001e4196",
   "metadata": {},
   "outputs": [
    {
     "name": "stdout",
     "output_type": "stream",
     "text": [
      "[0, 1, 4, 9, 16]\n"
     ]
    }
   ],
   "source": [
    "print(generate_squares(5))\n"
   ]
  },
  {
   "cell_type": "code",
   "execution_count": 30,
   "id": "6d4aab51-972f-4f77-ba77-f57b10a9c6b7",
   "metadata": {},
   "outputs": [],
   "source": [
    "def count_vowels(s):\n",
    "    vowels = 'aeiouAEIOU'\n",
    "    count = 0\n",
    "    for char in s:\n",
    "        if char in vowels:\n",
    "            count += 1\n",
    "    return count\n"
   ]
  },
  {
   "cell_type": "code",
   "execution_count": 31,
   "id": "a63befa6-f6f7-46cc-ae40-92ee7455ef26",
   "metadata": {},
   "outputs": [
    {
     "name": "stdout",
     "output_type": "stream",
     "text": [
      "3\n"
     ]
    }
   ],
   "source": [
    "print(count_vowels(\"hello world\"))  "
   ]
  },
  {
   "cell_type": "code",
   "execution_count": 32,
   "id": "542248a7-420a-4e5f-958a-3af05262d429",
   "metadata": {},
   "outputs": [
    {
     "name": "stdout",
     "output_type": "stream",
     "text": [
      "4\n"
     ]
    }
   ],
   "source": [
    "print(count_vowels(\"ANILKUMARG\"))  "
   ]
  },
  {
   "cell_type": "code",
   "execution_count": 36,
   "id": "358faeff-7b87-4603-9324-5702ae1869c9",
   "metadata": {},
   "outputs": [],
   "source": [
    "def difference(lst1, lst2):\n",
    "    return list(set(lst1) - set(lst2))\n"
   ]
  },
  {
   "cell_type": "code",
   "execution_count": 37,
   "id": "a3432212-16b7-42be-8826-e8486fb57db5",
   "metadata": {},
   "outputs": [
    {
     "name": "stdout",
     "output_type": "stream",
     "text": [
      "[1, 2]\n"
     ]
    }
   ],
   "source": [
    "print(difference([1, 2, 3, 4], [3, 4, 5, 6]))  "
   ]
  },
  {
   "cell_type": "code",
   "execution_count": 35,
   "id": "7ac58b1b-30c1-4e54-b7d4-5255676acf03",
   "metadata": {},
   "outputs": [],
   "source": [
    "def union(lst1, lst2):\n",
    "    return list(set(lst1) | set(lst2))\n",
    "\n"
   ]
  },
  {
   "cell_type": "code",
   "execution_count": 38,
   "id": "615dcda1-6744-4e54-ab7d-020fe749488c",
   "metadata": {},
   "outputs": [
    {
     "name": "stdout",
     "output_type": "stream",
     "text": [
      "[1, 2, 3, 4, 5, 6]\n"
     ]
    }
   ],
   "source": [
    "print(union([1, 2, 3, 4], [3, 4, 5, 6])) "
   ]
  },
  {
   "cell_type": "code",
   "execution_count": 39,
   "id": "4a709676-f7a3-49ef-80fb-4c59f05c87d9",
   "metadata": {},
   "outputs": [],
   "source": [
    "def intersection(lst1, lst2):\n",
    "    return list(set(lst1) & set(lst2))\n",
    "\n"
   ]
  },
  {
   "cell_type": "code",
   "execution_count": 40,
   "id": "bb4d81aa-16b2-4cf2-88f1-9898ace31b2c",
   "metadata": {},
   "outputs": [
    {
     "name": "stdout",
     "output_type": "stream",
     "text": [
      "[3, 4]\n"
     ]
    }
   ],
   "source": [
    "print(intersection([1, 2, 3, 4], [3, 4, 5, 6]))  "
   ]
  },
  {
   "cell_type": "code",
   "execution_count": 41,
   "id": "700c75b7-cb75-4b59-a433-51003590369e",
   "metadata": {},
   "outputs": [],
   "source": [
    "def is_palindrome(s):\n",
    "    return s == s[::-1]\n"
   ]
  },
  {
   "cell_type": "code",
   "execution_count": 43,
   "id": "cee446d9-a33a-492f-a879-acfc2344a640",
   "metadata": {},
   "outputs": [
    {
     "name": "stdout",
     "output_type": "stream",
     "text": [
      "True\n"
     ]
    }
   ],
   "source": [
    "print(is_palindrome(\"AnilkumaramuklinA\"))  "
   ]
  },
  {
   "cell_type": "code",
   "execution_count": 44,
   "id": "a8f88e5e-ccab-47a3-abea-db9b593e0800",
   "metadata": {},
   "outputs": [],
   "source": [
    "def fibonacci(n):\n",
    "    fib_seq = [0, 1]\n",
    "    for i in range(2, n):\n",
    "        fib_seq.append(fib_seq[-1] + fib_seq[-2])\n",
    "    return fib_seq\n",
    "\n"
   ]
  },
  {
   "cell_type": "code",
   "execution_count": 46,
   "id": "ea5283e6-d902-43fe-bb09-eb53a9edd4c8",
   "metadata": {},
   "outputs": [
    {
     "name": "stdout",
     "output_type": "stream",
     "text": [
      "[0, 1, 1, 2, 3, 5, 8, 13, 21, 34, 55, 89, 144, 233, 377, 610, 987, 1597, 2584, 4181]\n"
     ]
    }
   ],
   "source": [
    "print(fibonacci(20))"
   ]
  },
  {
   "cell_type": "code",
   "execution_count": null,
   "id": "eed8610f-85fd-42ca-99f0-37504463203c",
   "metadata": {},
   "outputs": [],
   "source": []
  },
  {
   "cell_type": "code",
   "execution_count": null,
   "id": "ea43b342-ee08-4cb4-adaf-429e999c0cee",
   "metadata": {},
   "outputs": [],
   "source": []
  }
 ],
 "metadata": {
  "kernelspec": {
   "display_name": "Python 3 (ipykernel)",
   "language": "python",
   "name": "python3"
  },
  "language_info": {
   "codemirror_mode": {
    "name": "ipython",
    "version": 3
   },
   "file_extension": ".py",
   "mimetype": "text/x-python",
   "name": "python",
   "nbconvert_exporter": "python",
   "pygments_lexer": "ipython3",
   "version": "3.12.4"
  }
 },
 "nbformat": 4,
 "nbformat_minor": 5
}
