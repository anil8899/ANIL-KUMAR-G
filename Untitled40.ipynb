{
 "cells": [
  {
   "cell_type": "code",
   "execution_count": 1,
   "id": "4edd6f8d-5991-4923-94e0-9a6f28721e21",
   "metadata": {},
   "outputs": [
    {
     "ename": "SyntaxError",
     "evalue": "invalid syntax (651555499.py, line 3)",
     "output_type": "error",
     "traceback": [
      "\u001b[1;36m  Cell \u001b[1;32mIn[1], line 3\u001b[1;36m\u001b[0m\n\u001b[1;33m    This notebook demonstrates the skills and concepts learned in the Data Science course, including coding, Markdown documentation, and sharing work on GitHub.\u001b[0m\n\u001b[1;37m         ^\u001b[0m\n\u001b[1;31mSyntaxError\u001b[0m\u001b[1;31m:\u001b[0m invalid syntax\n"
     ]
    }
   ],
   "source": [
    "# My Data Science Capstone Project\n",
    "## Introduction  \n",
    "This notebook demonstrates the skills and concepts learned in the Data Science course, including coding, Markdown documentation, and sharing work on GitHub."
   ]
  },
  {
   "cell_type": "code",
   "execution_count": null,
   "id": "ff77e6b5-79bc-46f4-a772-89bb8002f530",
   "metadata": {},
   "outputs": [],
   "source": []
  }
 ],
 "metadata": {
  "kernelspec": {
   "display_name": "Python 3 (ipykernel)",
   "language": "python",
   "name": "python3"
  },
  "language_info": {
   "codemirror_mode": {
    "name": "ipython",
    "version": 3
   },
   "file_extension": ".py",
   "mimetype": "text/x-python",
   "name": "python",
   "nbconvert_exporter": "python",
   "pygments_lexer": "ipython3",
   "version": "3.12.4"
  }
 },
 "nbformat": 4,
 "nbformat_minor": 5
}
