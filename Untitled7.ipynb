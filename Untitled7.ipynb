{
 "cells": [
  {
   "cell_type": "code",
   "execution_count": 26,
   "id": "355b5ca2-d8ce-498e-b461-19885057d844",
   "metadata": {},
   "outputs": [
    {
     "name": "stdout",
     "output_type": "stream",
     "text": [
      "python oops concepts\n"
     ]
    }
   ],
   "source": [
    "class python:\n",
    "    def display(x):\n",
    "        print(\"python oops concepts\")\n",
    "obj=python()\n",
    "obj.display()"
   ]
  },
  {
   "cell_type": "code",
   "execution_count": 42,
   "id": "c2f88986-0c49-44e8-9428-9adb281113b0",
   "metadata": {},
   "outputs": [
    {
     "ename": "IndentationError",
     "evalue": "expected an indented block after function definition on line 2 (1287958964.py, line 3)",
     "output_type": "error",
     "traceback": [
      "\u001b[1;36m  Cell \u001b[1;32mIn[42], line 3\u001b[1;36m\u001b[0m\n\u001b[1;33m    self.n=n\u001b[0m\n\u001b[1;37m    ^\u001b[0m\n\u001b[1;31mIndentationError\u001b[0m\u001b[1;31m:\u001b[0m expected an indented block after function definition on line 2\n"
     ]
    }
   ],
   "source": [
    "class calc:\n",
    "    def __init__(self,n,m):\n",
    "    self.n=n\n",
    "    self.m=m\n",
    "    def add(self):\n",
    "        sum=self.n+self.m\n",
    "        return sum\n",
    "        obj=calc()\n",
    "        obj.add(2,4)"
   ]
  },
  {
   "cell_type": "code",
   "execution_count": 38,
   "id": "1c6e009c-38e7-4e8e-88d5-16db47f12322",
   "metadata": {},
   "outputs": [
    {
     "name": "stdout",
     "output_type": "stream",
     "text": [
      "Toyota\n",
      "Corolla\n"
     ]
    }
   ],
   "source": [
    "class Car:\n",
    "    def __init__(self, brand, model):\n",
    "        self.brand = brand\n",
    "        self.model = model\n",
    "\n",
    "my_car = Car(\"Toyota\", \"Corolla\")\n",
    "print(my_car.brand)  # Output: Toyota\n",
    "print(my_car.model)  # Output: Corolla\n"
   ]
  },
  {
   "cell_type": "code",
   "execution_count": 44,
   "id": "8abc80eb-1be6-40c9-9872-2086d5a88756",
   "metadata": {},
   "outputs": [
    {
     "ename": "IndentationError",
     "evalue": "expected an indented block after function definition on line 2 (2706194956.py, line 3)",
     "output_type": "error",
     "traceback": [
      "\u001b[1;36m  Cell \u001b[1;32mIn[44], line 3\u001b[1;36m\u001b[0m\n\u001b[1;33m    self.x=x\u001b[0m\n\u001b[1;37m    ^\u001b[0m\n\u001b[1;31mIndentationError\u001b[0m\u001b[1;31m:\u001b[0m expected an indented block after function definition on line 2\n"
     ]
    }
   ],
   "source": [
    "class calc:\n",
    "    def __init__(self,x,y):\n",
    "    self.x=x\n",
    "    self.y=y\n",
    "    def multiply(self):\n",
    "        sum=self.x*self.y\n",
    "        return sum\n",
    "        obj=calc()\n",
    "        obj.multiply(3,5)"
   ]
  },
  {
   "cell_type": "code",
   "execution_count": null,
   "id": "59f7050e-d4ff-4b28-882b-596d19779c02",
   "metadata": {},
   "outputs": [],
   "source": []
  }
 ],
 "metadata": {
  "kernelspec": {
   "display_name": "Python 3 (ipykernel)",
   "language": "python",
   "name": "python3"
  },
  "language_info": {
   "codemirror_mode": {
    "name": "ipython",
    "version": 3
   },
   "file_extension": ".py",
   "mimetype": "text/x-python",
   "name": "python",
   "nbconvert_exporter": "python",
   "pygments_lexer": "ipython3",
   "version": "3.12.4"
  }
 },
 "nbformat": 4,
 "nbformat_minor": 5
}
