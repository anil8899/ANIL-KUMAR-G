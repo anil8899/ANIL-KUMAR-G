{
 "cells": [
  {
   "cell_type": "code",
   "execution_count": 9,
   "id": "cc6e5879-69ca-43e4-ac76-0d7b239529d0",
   "metadata": {},
   "outputs": [
    {
     "name": "stdout",
     "output_type": "stream",
     "text": [
      "x is the small\n"
     ]
    }
   ],
   "source": [
    "x=7\n",
    "if x>5:\n",
    "    print(\"x is the greater\")\n",
    "    \n",
    "else:\n",
    "    \n",
    "    print(\"x is the small\")\n",
    "    "
   ]
  },
  {
   "cell_type": "code",
   "execution_count": null,
   "id": "6ae4eb98-5498-41c7-89cd-79d11dec3f51",
   "metadata": {},
   "outputs": [],
   "source": []
  }
 ],
 "metadata": {
  "kernelspec": {
   "display_name": "Python 3 (ipykernel)",
   "language": "python",
   "name": "python3"
  },
  "language_info": {
   "codemirror_mode": {
    "name": "ipython",
    "version": 3
   },
   "file_extension": ".py",
   "mimetype": "text/x-python",
   "name": "python",
   "nbconvert_exporter": "python",
   "pygments_lexer": "ipython3",
   "version": "3.12.4"
  }
 },
 "nbformat": 4,
 "nbformat_minor": 5
}
