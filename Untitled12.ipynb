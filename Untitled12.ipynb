{
 "cells": [
  {
   "cell_type": "code",
   "execution_count": 4,
   "id": "bac02548-473f-4fa6-b939-71be71226f03",
   "metadata": {},
   "outputs": [],
   "source": [
    "import mysql.connector\n",
    "\n",
    "connection = mysql.connector.connect(\n",
    "    host=\"localhost\",\n",
    "    user=\"root\",\n",
    "    password=\"root\",\n",
    "    database=\"machine_learning_data\"\n",
    ")\n",
    "cursor = connection.cursor()\n",
    "\"\"\" create table create  table Student_Performs_Factor (Hours_Studied INT,\n",
    "Attendance VARCHAR(1000),Parental_Involvement VARCHAR(1000),\t\n",
    "Access_to_Resources VARCHAR(1000),Extracurricular_Activities VARCHAR(1000),\t\n",
    "Sleep_Hours VARCHAR(1000),Previous_Scores VARCHAR(1000),\t\n",
    "Motivation_Level VARCHAR(1000)\t,Internet_Access VARCHAR(1000),\t\n",
    "Tutoring_Sessions VARCHAR(1000),Family_Income VARCHAR(1000),\n",
    "Teacher_Quality VARCHAR(1000),\tSchool_Type VARCHAR(1000),\tPeer_Influence VARCHAR(1000),\n",
    "Physical_Activity VARCHAR(1000), Learning_Disabilities VARCHAR(1000),\t\n",
    "Parental_Education_Level VARCHAR(1000),\tDistance_from_Home\t VARCHAR(1000),\n",
    "Gender VARCHAR(1000),\tExam_Score VARCHAR(1000)) \"\"\"\n",
    "\n",
    "sql_insert = \"\"\"INSERT INTO Student_Performs_Factor (Hours_Studied INT,\n",
    "Attendance VARCHAR(1000),Parental_Involvement VARCHAR(1000),\t\n",
    "Access_to_Resources VARCHAR(1000),Extracurricular_Activities VARCHAR(1000),\t\n",
    "Sleep_Hours VARCHAR(1000),Previous_Scores VARCHAR(1000),\t\n",
    "Motivation_Level VARCHAR(1000)\t,Internet_Access VARCHAR(1000),\t\n",
    "Tutoring_Sessions VARCHAR(1000),Family_Income VARCHAR(1000),\n",
    "Teacher_Quality VARCHAR(1000),\tSchool_Type VARCHAR(1000),\tPeer_Influence VARCHAR(1000),\n",
    "Physical_Activity VARCHAR(1000), Learning_Disabilities VARCHAR(1000),\t\n",
    "Parental_Education_Level VARCHAR(1000),\tDistance_from_Home\t VARCHAR(1000),\n",
    "Gender VARCHAR(1000),\tExam_Score VARCHAR(1000)) VALUES =(\"23\",\t\"84\",\t\"Low\",\t\"High\"\t,\"No\"\t,\"7\",\t\"73\",\t\"Low\",\t\"Yes\",\t\"0\",\t\"Low\",\n",
    "                                                          \"Medium\",\t\"Public\tPositive\",\t\"3\",\t\"No\",\t\"High School\",\t\"Near\",\t\"Male\",\t\"67\")\"\"\"\n",
    "\n",
    "\n"
   ]
  },
  {
   "cell_type": "code",
   "execution_count": null,
   "id": "373e295b-6af3-4aba-ac15-ebd056bea483",
   "metadata": {},
   "outputs": [],
   "source": []
  }
 ],
 "metadata": {
  "kernelspec": {
   "display_name": "Python 3 (ipykernel)",
   "language": "python",
   "name": "python3"
  },
  "language_info": {
   "codemirror_mode": {
    "name": "ipython",
    "version": 3
   },
   "file_extension": ".py",
   "mimetype": "text/x-python",
   "name": "python",
   "nbconvert_exporter": "python",
   "pygments_lexer": "ipython3",
   "version": "3.12.4"
  }
 },
 "nbformat": 4,
 "nbformat_minor": 5
}
