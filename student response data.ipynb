{
 "cells": [
  {
   "cell_type": "code",
   "execution_count": 3,
   "id": "ed3d2c27-143a-4d71-9155-38c4f8c69451",
   "metadata": {},
   "outputs": [
    {
     "name": "stdout",
     "output_type": "stream",
     "text": [
      "Average ability in 2021: -0.042655626100710546\n",
      "Average ability in 2022: 0.3279868509369988\n",
      "Average difficulty in 2021: -0.056762626213078274\n",
      "Average difficulty in 2022: 0.11597257631029757\n"
     ]
    },
    {
     "name": "stderr",
     "output_type": "stream",
     "text": [
      "C:\\Users\\Nishitha Anil\\AppData\\Local\\Temp\\ipykernel_22484\\3807403783.py:26: SettingWithCopyWarning: \n",
      "A value is trying to be set on a copy of a slice from a DataFrame.\n",
      "Try using .loc[row_indexer,col_indexer] = value instead\n",
      "\n",
      "See the caveats in the documentation: https://pandas.pydata.org/pandas-docs/stable/user_guide/indexing.html#returning-a-view-versus-a-copy\n",
      "  data_2021_clean['year'] = 2021\n",
      "C:\\Users\\Nishitha Anil\\AppData\\Local\\Temp\\ipykernel_22484\\3807403783.py:27: SettingWithCopyWarning: \n",
      "A value is trying to be set on a copy of a slice from a DataFrame.\n",
      "Try using .loc[row_indexer,col_indexer] = value instead\n",
      "\n",
      "See the caveats in the documentation: https://pandas.pydata.org/pandas-docs/stable/user_guide/indexing.html#returning-a-view-versus-a-copy\n",
      "  data_2022_clean['year'] = 2022\n"
     ]
    },
    {
     "name": "stdout",
     "output_type": "stream",
     "text": [
      "Model Accuracy: 0.9996164383561644\n",
      "Classification Report:\n",
      "               precision    recall  f1-score   support\n",
      "\n",
      "           0       1.00      1.00      1.00      8859\n",
      "           1       1.00      1.00      1.00      9391\n",
      "\n",
      "    accuracy                           1.00     18250\n",
      "   macro avg       1.00      1.00      1.00     18250\n",
      "weighted avg       1.00      1.00      1.00     18250\n",
      "\n"
     ]
    }
   ],
   "source": [
    "import pandas as pd\n",
    "from sklearn.model_selection import train_test_split\n",
    "from sklearn.ensemble import RandomForestClassifier\n",
    "from sklearn.metrics import accuracy_score, classification_report\n",
    "\n",
    "# Load the CSV files\n",
    "data_2021 = pd.read_csv('C:\\\\Users\\\\Nishitha Anil\\\\Downloads\\\\student_responses_2021.csv')\n",
    "data_2022 = pd.read_csv('C:\\\\Users\\\\Nishitha Anil\\\\Downloads\\\\student_responses_2022.csv')\n",
    "\n",
    "# Drop rows with missing values in 'ability' and 'difficulty' columns\n",
    "data_2021_clean = data_2021.dropna(subset=['ability', 'difficulty'])\n",
    "data_2022_clean = data_2022.dropna(subset=['ability', 'difficulty'])\n",
    "\n",
    "# Calculate average ability and difficulty for each year\n",
    "avg_ability_2021 = data_2021_clean['ability'].mean()\n",
    "avg_ability_2022 = data_2022_clean['ability'].mean()\n",
    "avg_difficulty_2021 = data_2021_clean['difficulty'].mean()\n",
    "avg_difficulty_2022 = data_2022_clean['difficulty'].mean()\n",
    "\n",
    "print(f\"Average ability in 2021: {avg_ability_2021}\")\n",
    "print(f\"Average ability in 2022: {avg_ability_2022}\")\n",
    "print(f\"Average difficulty in 2021: {avg_difficulty_2021}\")\n",
    "print(f\"Average difficulty in 2022: {avg_difficulty_2022}\")\n",
    "\n",
    "# Prepare data for modeling\n",
    "data_2021_clean['year'] = 2021\n",
    "data_2022_clean['year'] = 2022\n",
    "combined_data = pd.concat([data_2021_clean, data_2022_clean])\n",
    "\n",
    "# Select features and target\n",
    "features = combined_data[['ability', 'difficulty', 'year']]\n",
    "target = combined_data['answered_correctly'].astype(int)  # Convert boolean to int for model\n",
    "\n",
    "# Split data into training and test sets\n",
    "X_train, X_test, y_train, y_test = train_test_split(features, target, test_size=0.2, random_state=42)\n",
    "\n",
    "# Initialize and train the model\n",
    "model = RandomForestClassifier(random_state=42)\n",
    "model.fit(X_train, y_train)\n",
    "\n",
    "# Predict and evaluate the model\n",
    "y_pred = model.predict(X_test)\n",
    "accuracy = accuracy_score(y_test, y_pred)\n",
    "report = classification_report(y_test, y_pred)\n",
    "\n",
    "print(f\"Model Accuracy: {accuracy}\")\n",
    "print(\"Classification Report:\\n\", report)\n"
   ]
  },
  {
   "cell_type": "code",
   "execution_count": null,
   "id": "41678a94-cf38-4269-a08f-0838be2e0ecd",
   "metadata": {},
   "outputs": [],
   "source": []
  }
 ],
 "metadata": {
  "kernelspec": {
   "display_name": "Python 3 (ipykernel)",
   "language": "python",
   "name": "python3"
  },
  "language_info": {
   "codemirror_mode": {
    "name": "ipython",
    "version": 3
   },
   "file_extension": ".py",
   "mimetype": "text/x-python",
   "name": "python",
   "nbconvert_exporter": "python",
   "pygments_lexer": "ipython3",
   "version": "3.12.4"
  }
 },
 "nbformat": 4,
 "nbformat_minor": 5
}
